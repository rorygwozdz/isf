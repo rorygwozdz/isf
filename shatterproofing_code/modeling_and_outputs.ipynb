{
 "cells": [
  {
   "cell_type": "code",
   "execution_count": 1,
   "metadata": {},
   "outputs": [],
   "source": [
    "# packages\n",
    "import numpy as np\n",
    "import pandas as pd\n",
    "import scipy.stats as sc\n",
    "import matplotlib.pyplot as plt\n",
    "from options_wrangler import OptionsWrangler"
   ]
  },
  {
   "cell_type": "code",
   "execution_count": 2,
   "metadata": {},
   "outputs": [],
   "source": [
    "# data loading\n",
    "d_loc = 'csv_data/'\n",
    "uso = pd.read_csv(d_loc + 'uso.csv')\n",
    "uso['trade_date'] = pd.to_datetime(uso['trade_date'])\n",
    "uso['expirDate'] = pd.to_datetime(uso['expirDate'])\n",
    "uso_stock = uso[['trade_date', 'stkPx']].groupby('trade_date').agg(np.mean)\n",
    "monthly_expos = expos[expos.expo_type == 'Monthly']\n",
    "max_date_back = max([\n",
    "    min(uso_stock.index), \n",
    "    min(monthly_expos['date']), \n",
    "    min(ytm['date']), \n",
    "    min(ytw['date'])])\n",
    "\n",
    "uso = uso[uso[\"trade_date\"] >  max_date_back]"
   ]
  },
  {
   "cell_type": "code",
   "execution_count": 3,
   "metadata": {},
   "outputs": [
    {
     "data": {
      "text/plain": [
       "(        stkPx trade_date  expirDate  strike  cOi    pOi  cValue  pValue  \\\n",
       " 210074  41.24 2010-04-01 2010-04-16    18.0   50   1040   23.24     0.0   \n",
       " 210075  41.24 2010-04-01 2010-04-16    19.0   50   2407   22.24     0.0   \n",
       " 210076  41.24 2010-04-01 2010-04-16    20.0   10   2292   21.24     0.0   \n",
       " 210077  41.24 2010-04-01 2010-04-16    21.0    0  25400   20.24     0.0   \n",
       " 210078  41.24 2010-04-01 2010-04-16    22.0    0  21096   19.24     0.0   \n",
       " \n",
       "         delta  gamma  \n",
       " 210074    1.0    0.0  \n",
       " 210075    1.0    0.0  \n",
       " 210076    1.0    0.0  \n",
       " 210077    1.0    0.0  \n",
       " 210078    1.0    0.0  , Timestamp('2010-03-31 00:00:00'))"
      ]
     },
     "execution_count": 3,
     "metadata": {},
     "output_type": "execute_result"
    }
   ],
   "source": [
    "uso.head(), max_date_back"
   ]
  },
  {
   "cell_type": "code",
   "execution_count": 4,
   "metadata": {},
   "outputs": [],
   "source": [
    "#### USO Sorting\n",
    "# putting into one frame\n",
    "# pd.merge\n",
    "# pd.shift (for advancing)\n",
    "uso_expos = monthly_expos.merge(uso, left_on='date', right_on='expirDate')\n",
    "uso_expos = uso_expos.drop(columns=['date', 'expo_type'])\n",
    "uso_trading = monthly_expos.merge(uso_expos, left_on='date', right_on='trade_date')\n",
    "uso_trading = uso_trading.sort_values(['trade_date', 'expirDate', 'strike'])"
   ]
  },
  {
   "cell_type": "code",
   "execution_count": 5,
   "metadata": {},
   "outputs": [
    {
     "data": {
      "text/plain": [
       "(numpy.datetime64('2010-12-17T00:00:00.000000000'),\n",
       " numpy.datetime64('2010-04-01T00:00:00.000000000'),\n",
       " numpy.datetime64('2007-01-20T00:00:00.000000000'))"
      ]
     },
     "execution_count": 5,
     "metadata": {},
     "output_type": "execute_result"
    }
   ],
   "source": [
    "min(np.unique(uso_trading.trade_date)), min(np.unique(uso.trade_date)), min(np.unique(monthly_expos.date))"
   ]
  },
  {
   "cell_type": "code",
   "execution_count": 6,
   "metadata": {},
   "outputs": [],
   "source": [
    "# building a model on linear regression time series \n",
    "# https://towardsdatascience.com/prediction-task-with-multivariate-timeseries-and-var-model-47003f629f9"
   ]
  },
  {
   "cell_type": "code",
   "execution_count": null,
   "metadata": {},
   "outputs": [],
   "source": [
    "wrangler = uso."
   ]
  },
  {
   "cell_type": "code",
   "execution_count": null,
   "metadata": {},
   "outputs": [],
   "source": []
  },
  {
   "cell_type": "code",
   "execution_count": null,
   "metadata": {},
   "outputs": [],
   "source": []
  },
  {
   "cell_type": "code",
   "execution_count": null,
   "metadata": {},
   "outputs": [],
   "source": []
  },
  {
   "cell_type": "code",
   "execution_count": null,
   "metadata": {},
   "outputs": [],
   "source": []
  },
  {
   "cell_type": "code",
   "execution_count": null,
   "metadata": {},
   "outputs": [],
   "source": []
  },
  {
   "cell_type": "code",
   "execution_count": null,
   "metadata": {},
   "outputs": [],
   "source": []
  },
  {
   "cell_type": "code",
   "execution_count": null,
   "metadata": {},
   "outputs": [],
   "source": []
  },
  {
   "cell_type": "code",
   "execution_count": null,
   "metadata": {},
   "outputs": [],
   "source": []
  },
  {
   "cell_type": "code",
   "execution_count": 7,
   "metadata": {},
   "outputs": [
    {
     "data": {
      "text/plain": [
       "Timestamp('2010-03-31 00:00:00')"
      ]
     },
     "execution_count": 7,
     "metadata": {},
     "output_type": "execute_result"
    }
   ],
   "source": [
    "max_date_back"
   ]
  },
  {
   "cell_type": "markdown",
   "metadata": {},
   "source": [
    "### Plotting YTM & YTW\n",
    "This is to visualize the estimated cost of a goverment paying the TEY of the S&P IG Energy Sector YTM & YTW and buying the 20 delta USO put for two months out."
   ]
  },
  {
   "cell_type": "code",
   "execution_count": null,
   "metadata": {},
   "outputs": [],
   "source": []
  }
 ],
 "metadata": {
  "kernelspec": {
   "display_name": "Python 3",
   "language": "python",
   "name": "python3"
  },
  "language_info": {
   "codemirror_mode": {
    "name": "ipython",
    "version": 3
   },
   "file_extension": ".py",
   "mimetype": "text/x-python",
   "name": "python",
   "nbconvert_exporter": "python",
   "pygments_lexer": "ipython3",
   "version": "3.7.6"
  }
 },
 "nbformat": 4,
 "nbformat_minor": 4
}
