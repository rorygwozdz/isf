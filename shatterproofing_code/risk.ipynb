{
 "cells": [
  {
   "attachments": {},
   "cell_type": "markdown",
   "metadata": {},
   "source": [
    "# Shatterproofing\n",
    "## Hedging Commodity Risk in America’s Boomtowns\n",
    "This is the code which helps show the latent risk of commodity towns. "
   ]
  },
  {
   "cell_type": "code",
   "execution_count": 419,
   "metadata": {},
   "outputs": [],
   "source": [
    "# importing packages\n",
    "import numpy as np\n",
    "import pandas as pd\n",
    "import linearmodels\n",
    "import matplotlib.pyplot as plt\n",
    "%matplotlib inline"
   ]
  },
  {
   "cell_type": "markdown",
   "metadata": {},
   "source": [
    "### Cleaning\n",
    "In the below cell, the data is brought in and cleaned for merging purposes. \n",
    "- Dates are set to pandas timestamps.\n",
    "- Stacks are shifted from years and months to single time stamp values. \n",
    "- Percentage rates are set to decimals.\n",
    "- People are set to thousands per year. \n",
    "- Identification columns are added for testing later. \n",
    "- Rolling means are calculated where applicable. "
   ]
  },
  {
   "cell_type": "code",
   "execution_count": 582,
   "metadata": {},
   "outputs": [],
   "source": [
    "d = 'csv_data/'\n",
    "labor_force = pd.read_csv(d + 'civilian_labor_force.csv')\n",
    "labor_force['DATE'] = pd.to_datetime(labor_force['DATE'])\n",
    "\n",
    "df1 = pd.read_csv(d+ 'midland_employee_total_count.csv')\n",
    "df1 = df1.set_index(['Year']).stack().reset_index()\n",
    "df1 = df1[df1.level_1 != 'Annual']\n",
    "date = df1['Year'].astype(str) + ' '+ df1['level_1']\n",
    "df1['Date'] = pd.to_datetime(date)\n",
    "df1['Employment'] = df1[[0]]\n",
    "total_employees = df1.drop(columns=['Year', 'level_1', 0])\n",
    "\n",
    "mining_employment =  pd.read_csv(d + 'midland_mining_employment_thousands_of_people_per_year.csv')\n",
    "df2 = mining_employment.set_index(['Year']).stack().reset_index()\n",
    "df2 = df2[df2.level_1 != 'Annual']\n",
    "date = df2['Year'].astype(str) + ' '+ df2['level_1']\n",
    "df2['Date'] = pd.to_datetime(date)\n",
    "df2['MineEmploy'] = df2[[0]]\n",
    "df2['MineEmploy'] *= 1000\n",
    "mining_employment = df2.drop(columns=['Year', 'level_1', 0])\n",
    "\n",
    "unemployment_rate = pd.read_csv(d +'unemployment_rate_midland_tx_by_year.csv')\n",
    "df3 = unemployment_rate.set_index(['Year']).stack().reset_index()\n",
    "df3 = df3[df3.level_1 != 'Annual']\n",
    "date = df3['Year'].astype(str) + ' '+ df3['level_1']\n",
    "df3['Date'] = pd.to_datetime(date)\n",
    "df3.replace('x', '0', inplace=True)\n",
    "df3.replace('   ', '3.71', inplace=True)\n",
    "df3['Rate'] = df3[[0]]\n",
    "df3['Rate'] = df3.Rate.astype(float)\n",
    "df3['Rate'] /= 100\n",
    "df3['Region'] = \"Midland\"\n",
    "unemployment_rate = df3.drop(columns=['Year', 'level_1', 0])\n",
    "\n",
    "df4 = pd.read_csv(d +'unemployment_rate.csv')\n",
    "df4['NationalRate'] = df4.UNRATE.astype(float)/100\n",
    "df4['Date'] =pd.to_datetime(df4['DATE'])\n",
    "df4['Region'] = \"National\"\n",
    "unemployment_rate_nat = df4.drop(columns=['DATE', 'UNRATE'])\n",
    "\n",
    "\n",
    "df5 = pd.read_csv(d + 'WTI_Oil.csv')\n",
    "df5['Date'] = pd.to_datetime(df5['Date'])\n",
    "df5['RollingMean'] = df5['Price'].rolling(10).mean()\n",
    "df5.sort_values(\"Date\", inplace=True)\n",
    "df5['Date'] = pd.to_datetime(df5.Date) + pd.offsets.MonthBegin(-1)\n",
    "oil_price = df5.groupby(\"Date\").first()"
   ]
  },
  {
   "cell_type": "markdown",
   "metadata": {},
   "source": [
    "Sample of the national unemploymnet rate data."
   ]
  },
  {
   "cell_type": "code",
   "execution_count": 583,
   "metadata": {},
   "outputs": [
    {
     "data": {
      "text/html": [
       "<div>\n",
       "<style scoped>\n",
       "    .dataframe tbody tr th:only-of-type {\n",
       "        vertical-align: middle;\n",
       "    }\n",
       "\n",
       "    .dataframe tbody tr th {\n",
       "        vertical-align: top;\n",
       "    }\n",
       "\n",
       "    .dataframe thead th {\n",
       "        text-align: right;\n",
       "    }\n",
       "</style>\n",
       "<table border=\"1\" class=\"dataframe\">\n",
       "  <thead>\n",
       "    <tr style=\"text-align: right;\">\n",
       "      <th></th>\n",
       "      <th>NationalRate</th>\n",
       "      <th>Date</th>\n",
       "      <th>Region</th>\n",
       "    </tr>\n",
       "  </thead>\n",
       "  <tbody>\n",
       "    <tr>\n",
       "      <th>0</th>\n",
       "      <td>0.034</td>\n",
       "      <td>1948-01-01</td>\n",
       "      <td>National</td>\n",
       "    </tr>\n",
       "    <tr>\n",
       "      <th>1</th>\n",
       "      <td>0.038</td>\n",
       "      <td>1948-02-01</td>\n",
       "      <td>National</td>\n",
       "    </tr>\n",
       "    <tr>\n",
       "      <th>2</th>\n",
       "      <td>0.040</td>\n",
       "      <td>1948-03-01</td>\n",
       "      <td>National</td>\n",
       "    </tr>\n",
       "    <tr>\n",
       "      <th>3</th>\n",
       "      <td>0.039</td>\n",
       "      <td>1948-04-01</td>\n",
       "      <td>National</td>\n",
       "    </tr>\n",
       "    <tr>\n",
       "      <th>4</th>\n",
       "      <td>0.035</td>\n",
       "      <td>1948-05-01</td>\n",
       "      <td>National</td>\n",
       "    </tr>\n",
       "  </tbody>\n",
       "</table>\n",
       "</div>"
      ],
      "text/plain": [
       "   NationalRate       Date    Region\n",
       "0         0.034 1948-01-01  National\n",
       "1         0.038 1948-02-01  National\n",
       "2         0.040 1948-03-01  National\n",
       "3         0.039 1948-04-01  National\n",
       "4         0.035 1948-05-01  National"
      ]
     },
     "execution_count": 583,
     "metadata": {},
     "output_type": "execute_result"
    }
   ],
   "source": [
    "unemployment_rate_nat.head()"
   ]
  },
  {
   "cell_type": "markdown",
   "metadata": {},
   "source": [
    "Sample of the total persons employed in Midland data."
   ]
  },
  {
   "cell_type": "code",
   "execution_count": 584,
   "metadata": {},
   "outputs": [
    {
     "data": {
      "text/html": [
       "<div>\n",
       "<style scoped>\n",
       "    .dataframe tbody tr th:only-of-type {\n",
       "        vertical-align: middle;\n",
       "    }\n",
       "\n",
       "    .dataframe tbody tr th {\n",
       "        vertical-align: top;\n",
       "    }\n",
       "\n",
       "    .dataframe thead th {\n",
       "        text-align: right;\n",
       "    }\n",
       "</style>\n",
       "<table border=\"1\" class=\"dataframe\">\n",
       "  <thead>\n",
       "    <tr style=\"text-align: right;\">\n",
       "      <th></th>\n",
       "      <th>Date</th>\n",
       "      <th>Employment</th>\n",
       "    </tr>\n",
       "  </thead>\n",
       "  <tbody>\n",
       "    <tr>\n",
       "      <th>0</th>\n",
       "      <td>2008-01-01</td>\n",
       "      <td>66749.0</td>\n",
       "    </tr>\n",
       "    <tr>\n",
       "      <th>1</th>\n",
       "      <td>2008-02-01</td>\n",
       "      <td>67317.0</td>\n",
       "    </tr>\n",
       "    <tr>\n",
       "      <th>2</th>\n",
       "      <td>2008-03-01</td>\n",
       "      <td>67942.0</td>\n",
       "    </tr>\n",
       "    <tr>\n",
       "      <th>3</th>\n",
       "      <td>2008-04-01</td>\n",
       "      <td>68270.0</td>\n",
       "    </tr>\n",
       "    <tr>\n",
       "      <th>4</th>\n",
       "      <td>2008-05-01</td>\n",
       "      <td>68911.0</td>\n",
       "    </tr>\n",
       "  </tbody>\n",
       "</table>\n",
       "</div>"
      ],
      "text/plain": [
       "        Date  Employment\n",
       "0 2008-01-01     66749.0\n",
       "1 2008-02-01     67317.0\n",
       "2 2008-03-01     67942.0\n",
       "3 2008-04-01     68270.0\n",
       "4 2008-05-01     68911.0"
      ]
     },
     "execution_count": 584,
     "metadata": {},
     "output_type": "execute_result"
    }
   ],
   "source": [
    "total_employees.head()"
   ]
  },
  {
   "cell_type": "markdown",
   "metadata": {},
   "source": [
    "Sample of the mining persons employed in Midland data."
   ]
  },
  {
   "cell_type": "code",
   "execution_count": 585,
   "metadata": {},
   "outputs": [
    {
     "data": {
      "text/html": [
       "<div>\n",
       "<style scoped>\n",
       "    .dataframe tbody tr th:only-of-type {\n",
       "        vertical-align: middle;\n",
       "    }\n",
       "\n",
       "    .dataframe tbody tr th {\n",
       "        vertical-align: top;\n",
       "    }\n",
       "\n",
       "    .dataframe thead th {\n",
       "        text-align: right;\n",
       "    }\n",
       "</style>\n",
       "<table border=\"1\" class=\"dataframe\">\n",
       "  <thead>\n",
       "    <tr style=\"text-align: right;\">\n",
       "      <th></th>\n",
       "      <th>Date</th>\n",
       "      <th>MineEmploy</th>\n",
       "    </tr>\n",
       "  </thead>\n",
       "  <tbody>\n",
       "    <tr>\n",
       "      <th>0</th>\n",
       "      <td>2009-01-01</td>\n",
       "      <td>16800.0</td>\n",
       "    </tr>\n",
       "    <tr>\n",
       "      <th>1</th>\n",
       "      <td>2009-02-01</td>\n",
       "      <td>16200.0</td>\n",
       "    </tr>\n",
       "    <tr>\n",
       "      <th>2</th>\n",
       "      <td>2009-03-01</td>\n",
       "      <td>15700.0</td>\n",
       "    </tr>\n",
       "    <tr>\n",
       "      <th>3</th>\n",
       "      <td>2009-04-01</td>\n",
       "      <td>15100.0</td>\n",
       "    </tr>\n",
       "    <tr>\n",
       "      <th>4</th>\n",
       "      <td>2009-05-01</td>\n",
       "      <td>14700.0</td>\n",
       "    </tr>\n",
       "  </tbody>\n",
       "</table>\n",
       "</div>"
      ],
      "text/plain": [
       "        Date  MineEmploy\n",
       "0 2009-01-01     16800.0\n",
       "1 2009-02-01     16200.0\n",
       "2 2009-03-01     15700.0\n",
       "3 2009-04-01     15100.0\n",
       "4 2009-05-01     14700.0"
      ]
     },
     "execution_count": 585,
     "metadata": {},
     "output_type": "execute_result"
    }
   ],
   "source": [
    "mining_employment.head()"
   ]
  },
  {
   "cell_type": "markdown",
   "metadata": {},
   "source": [
    "Sample of the local unemploymnet rate data."
   ]
  },
  {
   "cell_type": "code",
   "execution_count": 586,
   "metadata": {},
   "outputs": [
    {
     "data": {
      "text/html": [
       "<div>\n",
       "<style scoped>\n",
       "    .dataframe tbody tr th:only-of-type {\n",
       "        vertical-align: middle;\n",
       "    }\n",
       "\n",
       "    .dataframe tbody tr th {\n",
       "        vertical-align: top;\n",
       "    }\n",
       "\n",
       "    .dataframe thead th {\n",
       "        text-align: right;\n",
       "    }\n",
       "</style>\n",
       "<table border=\"1\" class=\"dataframe\">\n",
       "  <thead>\n",
       "    <tr style=\"text-align: right;\">\n",
       "      <th></th>\n",
       "      <th>Date</th>\n",
       "      <th>Rate</th>\n",
       "      <th>Region</th>\n",
       "    </tr>\n",
       "  </thead>\n",
       "  <tbody>\n",
       "    <tr>\n",
       "      <th>0</th>\n",
       "      <td>2009-01-01</td>\n",
       "      <td>0.000</td>\n",
       "      <td>Midland</td>\n",
       "    </tr>\n",
       "    <tr>\n",
       "      <th>1</th>\n",
       "      <td>2009-02-01</td>\n",
       "      <td>0.040</td>\n",
       "      <td>Midland</td>\n",
       "    </tr>\n",
       "    <tr>\n",
       "      <th>2</th>\n",
       "      <td>2009-03-01</td>\n",
       "      <td>0.044</td>\n",
       "      <td>Midland</td>\n",
       "    </tr>\n",
       "    <tr>\n",
       "      <th>3</th>\n",
       "      <td>2009-04-01</td>\n",
       "      <td>0.045</td>\n",
       "      <td>Midland</td>\n",
       "    </tr>\n",
       "    <tr>\n",
       "      <th>4</th>\n",
       "      <td>2009-05-01</td>\n",
       "      <td>0.057</td>\n",
       "      <td>Midland</td>\n",
       "    </tr>\n",
       "  </tbody>\n",
       "</table>\n",
       "</div>"
      ],
      "text/plain": [
       "        Date   Rate   Region\n",
       "0 2009-01-01  0.000  Midland\n",
       "1 2009-02-01  0.040  Midland\n",
       "2 2009-03-01  0.044  Midland\n",
       "3 2009-04-01  0.045  Midland\n",
       "4 2009-05-01  0.057  Midland"
      ]
     },
     "execution_count": 586,
     "metadata": {},
     "output_type": "execute_result"
    }
   ],
   "source": [
    "unemployment_rate.head()"
   ]
  },
  {
   "cell_type": "markdown",
   "metadata": {},
   "source": [
    "Sample of the Oil Price Data."
   ]
  },
  {
   "cell_type": "code",
   "execution_count": 587,
   "metadata": {},
   "outputs": [
    {
     "data": {
      "text/html": [
       "<div>\n",
       "<style scoped>\n",
       "    .dataframe tbody tr th:only-of-type {\n",
       "        vertical-align: middle;\n",
       "    }\n",
       "\n",
       "    .dataframe tbody tr th {\n",
       "        vertical-align: top;\n",
       "    }\n",
       "\n",
       "    .dataframe thead th {\n",
       "        text-align: right;\n",
       "    }\n",
       "</style>\n",
       "<table border=\"1\" class=\"dataframe\">\n",
       "  <thead>\n",
       "    <tr style=\"text-align: right;\">\n",
       "      <th></th>\n",
       "      <th>Price</th>\n",
       "      <th>Open</th>\n",
       "      <th>High</th>\n",
       "      <th>Low</th>\n",
       "      <th>Vol.</th>\n",
       "      <th>Change %</th>\n",
       "      <th>RollingMean</th>\n",
       "    </tr>\n",
       "    <tr>\n",
       "      <th>Date</th>\n",
       "      <th></th>\n",
       "      <th></th>\n",
       "      <th></th>\n",
       "      <th></th>\n",
       "      <th></th>\n",
       "      <th></th>\n",
       "      <th></th>\n",
       "    </tr>\n",
       "  </thead>\n",
       "  <tbody>\n",
       "    <tr>\n",
       "      <th>2010-05-01</th>\n",
       "      <td>75.65</td>\n",
       "      <td>75.89</td>\n",
       "      <td>77.00</td>\n",
       "      <td>74.75</td>\n",
       "      <td>475.85K</td>\n",
       "      <td>-0.94%</td>\n",
       "      <td>70.803</td>\n",
       "    </tr>\n",
       "    <tr>\n",
       "      <th>2010-06-01</th>\n",
       "      <td>72.86</td>\n",
       "      <td>71.94</td>\n",
       "      <td>73.93</td>\n",
       "      <td>71.68</td>\n",
       "      <td>391.03K</td>\n",
       "      <td>0.39%</td>\n",
       "      <td>73.811</td>\n",
       "    </tr>\n",
       "    <tr>\n",
       "      <th>2010-07-01</th>\n",
       "      <td>72.14</td>\n",
       "      <td>72.67</td>\n",
       "      <td>73.38</td>\n",
       "      <td>71.62</td>\n",
       "      <td>256.17K</td>\n",
       "      <td>-1.11%</td>\n",
       "      <td>75.149</td>\n",
       "    </tr>\n",
       "    <tr>\n",
       "      <th>2010-08-01</th>\n",
       "      <td>81.34</td>\n",
       "      <td>78.95</td>\n",
       "      <td>81.77</td>\n",
       "      <td>78.83</td>\n",
       "      <td>306.10K</td>\n",
       "      <td>3.03%</td>\n",
       "      <td>79.995</td>\n",
       "    </tr>\n",
       "    <tr>\n",
       "      <th>2010-09-01</th>\n",
       "      <td>75.02</td>\n",
       "      <td>73.91</td>\n",
       "      <td>75.14</td>\n",
       "      <td>73.11</td>\n",
       "      <td>340.17K</td>\n",
       "      <td>1.50%</td>\n",
       "      <td>75.366</td>\n",
       "    </tr>\n",
       "  </tbody>\n",
       "</table>\n",
       "</div>"
      ],
      "text/plain": [
       "            Price   Open   High    Low     Vol. Change %  RollingMean\n",
       "Date                                                                 \n",
       "2010-05-01  75.65  75.89  77.00  74.75  475.85K   -0.94%       70.803\n",
       "2010-06-01  72.86  71.94  73.93  71.68  391.03K    0.39%       73.811\n",
       "2010-07-01  72.14  72.67  73.38  71.62  256.17K   -1.11%       75.149\n",
       "2010-08-01  81.34  78.95  81.77  78.83  306.10K    3.03%       79.995\n",
       "2010-09-01  75.02  73.91  75.14  73.11  340.17K    1.50%       75.366"
      ]
     },
     "execution_count": 587,
     "metadata": {},
     "output_type": "execute_result"
    }
   ],
   "source": [
    "oil_price.head()"
   ]
  },
  {
   "cell_type": "markdown",
   "metadata": {},
   "source": [
    "The below cell merges all of the data frames together."
   ]
  },
  {
   "cell_type": "code",
   "execution_count": 588,
   "metadata": {},
   "outputs": [
    {
     "data": {
      "text/html": [
       "<div>\n",
       "<style scoped>\n",
       "    .dataframe tbody tr th:only-of-type {\n",
       "        vertical-align: middle;\n",
       "    }\n",
       "\n",
       "    .dataframe tbody tr th {\n",
       "        vertical-align: top;\n",
       "    }\n",
       "\n",
       "    .dataframe thead th {\n",
       "        text-align: right;\n",
       "    }\n",
       "</style>\n",
       "<table border=\"1\" class=\"dataframe\">\n",
       "  <thead>\n",
       "    <tr style=\"text-align: right;\">\n",
       "      <th></th>\n",
       "      <th>Date</th>\n",
       "      <th>Price</th>\n",
       "      <th>Open</th>\n",
       "      <th>High</th>\n",
       "      <th>Low</th>\n",
       "      <th>Vol.</th>\n",
       "      <th>Change %</th>\n",
       "      <th>RollingMean</th>\n",
       "      <th>Rate</th>\n",
       "      <th>Region_x</th>\n",
       "      <th>MineEmploy</th>\n",
       "      <th>Employment</th>\n",
       "      <th>DATE</th>\n",
       "      <th>TXMIDL9LFN</th>\n",
       "      <th>NationalRate</th>\n",
       "      <th>Region_y</th>\n",
       "    </tr>\n",
       "  </thead>\n",
       "  <tbody>\n",
       "    <tr>\n",
       "      <th>0</th>\n",
       "      <td>2010-05-01</td>\n",
       "      <td>75.65</td>\n",
       "      <td>75.89</td>\n",
       "      <td>77.00</td>\n",
       "      <td>74.75</td>\n",
       "      <td>475.85K</td>\n",
       "      <td>-0.94%</td>\n",
       "      <td>70.803</td>\n",
       "      <td>0.058</td>\n",
       "      <td>Midland</td>\n",
       "      <td>15600.0</td>\n",
       "      <td>67377.0</td>\n",
       "      <td>2010-05-01</td>\n",
       "      <td>70749</td>\n",
       "      <td>0.096</td>\n",
       "      <td>National</td>\n",
       "    </tr>\n",
       "    <tr>\n",
       "      <th>1</th>\n",
       "      <td>2010-06-01</td>\n",
       "      <td>72.86</td>\n",
       "      <td>71.94</td>\n",
       "      <td>73.93</td>\n",
       "      <td>71.68</td>\n",
       "      <td>391.03K</td>\n",
       "      <td>0.39%</td>\n",
       "      <td>73.811</td>\n",
       "      <td>0.062</td>\n",
       "      <td>Midland</td>\n",
       "      <td>16000.0</td>\n",
       "      <td>67650.0</td>\n",
       "      <td>2010-06-01</td>\n",
       "      <td>71271</td>\n",
       "      <td>0.094</td>\n",
       "      <td>National</td>\n",
       "    </tr>\n",
       "    <tr>\n",
       "      <th>2</th>\n",
       "      <td>2010-07-01</td>\n",
       "      <td>72.14</td>\n",
       "      <td>72.67</td>\n",
       "      <td>73.38</td>\n",
       "      <td>71.62</td>\n",
       "      <td>256.17K</td>\n",
       "      <td>-1.11%</td>\n",
       "      <td>75.149</td>\n",
       "      <td>0.060</td>\n",
       "      <td>Midland</td>\n",
       "      <td>16200.0</td>\n",
       "      <td>67436.0</td>\n",
       "      <td>2010-07-01</td>\n",
       "      <td>72057</td>\n",
       "      <td>0.094</td>\n",
       "      <td>National</td>\n",
       "    </tr>\n",
       "    <tr>\n",
       "      <th>3</th>\n",
       "      <td>2010-08-01</td>\n",
       "      <td>81.34</td>\n",
       "      <td>78.95</td>\n",
       "      <td>81.77</td>\n",
       "      <td>78.83</td>\n",
       "      <td>306.10K</td>\n",
       "      <td>3.03%</td>\n",
       "      <td>79.995</td>\n",
       "      <td>0.058</td>\n",
       "      <td>Midland</td>\n",
       "      <td>16300.0</td>\n",
       "      <td>67773.0</td>\n",
       "      <td>2010-08-01</td>\n",
       "      <td>72179</td>\n",
       "      <td>0.095</td>\n",
       "      <td>National</td>\n",
       "    </tr>\n",
       "    <tr>\n",
       "      <th>4</th>\n",
       "      <td>2010-09-01</td>\n",
       "      <td>75.02</td>\n",
       "      <td>73.91</td>\n",
       "      <td>75.14</td>\n",
       "      <td>73.11</td>\n",
       "      <td>340.17K</td>\n",
       "      <td>1.50%</td>\n",
       "      <td>75.366</td>\n",
       "      <td>0.055</td>\n",
       "      <td>Midland</td>\n",
       "      <td>16400.0</td>\n",
       "      <td>68297.0</td>\n",
       "      <td>2010-09-01</td>\n",
       "      <td>72494</td>\n",
       "      <td>0.095</td>\n",
       "      <td>National</td>\n",
       "    </tr>\n",
       "  </tbody>\n",
       "</table>\n",
       "</div>"
      ],
      "text/plain": [
       "        Date  Price   Open   High    Low     Vol. Change %  RollingMean  \\\n",
       "0 2010-05-01  75.65  75.89  77.00  74.75  475.85K   -0.94%       70.803   \n",
       "1 2010-06-01  72.86  71.94  73.93  71.68  391.03K    0.39%       73.811   \n",
       "2 2010-07-01  72.14  72.67  73.38  71.62  256.17K   -1.11%       75.149   \n",
       "3 2010-08-01  81.34  78.95  81.77  78.83  306.10K    3.03%       79.995   \n",
       "4 2010-09-01  75.02  73.91  75.14  73.11  340.17K    1.50%       75.366   \n",
       "\n",
       "    Rate Region_x  MineEmploy  Employment       DATE  TXMIDL9LFN  \\\n",
       "0  0.058  Midland     15600.0     67377.0 2010-05-01       70749   \n",
       "1  0.062  Midland     16000.0     67650.0 2010-06-01       71271   \n",
       "2  0.060  Midland     16200.0     67436.0 2010-07-01       72057   \n",
       "3  0.058  Midland     16300.0     67773.0 2010-08-01       72179   \n",
       "4  0.055  Midland     16400.0     68297.0 2010-09-01       72494   \n",
       "\n",
       "   NationalRate  Region_y  \n",
       "0         0.096  National  \n",
       "1         0.094  National  \n",
       "2         0.094  National  \n",
       "3         0.095  National  \n",
       "4         0.095  National  "
      ]
     },
     "execution_count": 588,
     "metadata": {},
     "output_type": "execute_result"
    }
   ],
   "source": [
    "mp = oil_price.merge(unemployment_rate, on='Date').merge(mining_employment, on='Date').merge(total_employees, on='Date').merge(labor_force, left_on='Date', right_on='DATE').merge(unemployment_rate_nat, left_on='Date', right_on='Date').sort_values('Date').sort_values('Date')\n",
    "# sample\n",
    "mp.head()"
   ]
  },
  {
   "cell_type": "code",
   "execution_count": 589,
   "metadata": {},
   "outputs": [],
   "source": [
    "# for saving images\n",
    "img = 'images/'\n",
    "blue = 'tab:blue'"
   ]
  },
  {
   "cell_type": "code",
   "execution_count": 590,
   "metadata": {},
   "outputs": [
    {
     "data": {
      "image/png": "[encoded data removed]",
      "text/plain": [
       "<Figure size 432x288 with 1 Axes>"
      ]
     },
     "metadata": {
      "needs_background": "light"
     },
     "output_type": "display_data"
    }
   ],
   "source": [
    "# employment rate over time\n",
    "plt.plot(mp.Date, mp.Rate, color=blue)\n",
    "plt.title('Midland Texas Unemployment Over Time')\n",
    "plt.xlabel('Time')\n",
    "plt.ylabel('Rate');\n",
    "plt.savefig(img + 'unemployment_over_time.png')"
   ]
  },
  {
   "cell_type": "code",
   "execution_count": 591,
   "metadata": {},
   "outputs": [
    {
     "data": {
      "image/png": "[encoded data removed]",
      "text/plain": [
       "<Figure size 432x288 with 1 Axes>"
      ]
     },
     "metadata": {
      "needs_background": "light"
     },
     "output_type": "display_data"
    }
   ],
   "source": [
    "# Oil price over time\n",
    "plt.plot(mp.Date, mp.Price, color=blue)\n",
    "plt.title('Oil Price Over Time (WTI)')\n",
    "plt.xlabel('Time')\n",
    "plt.ylabel('Price per Barrel');\n",
    "plt.savefig(img + 'oil_price_over_time.png');"
   ]
  },
  {
   "cell_type": "code",
   "execution_count": 592,
   "metadata": {},
   "outputs": [
    {
     "data": {
      "image/png": "[encoded data removed]",
      "text/plain": [
       "<Figure size 432x288 with 1 Axes>"
      ]
     },
     "metadata": {
      "needs_background": "light"
     },
     "output_type": "display_data"
    }
   ],
   "source": [
    "plt.plot(mp.Date, mp.MineEmploy, color=blue)\n",
    "plt.title('Midland Texas Mining Employment')\n",
    "plt.xlabel('Time')\n",
    "plt.ylabel('Mining Persons Employed');\n",
    "plt.savefig(img + 'mining_employment_over_time.png');"
   ]
  },
  {
   "cell_type": "code",
   "execution_count": 593,
   "metadata": {},
   "outputs": [
    {
     "data": {
      "text/plain": [
       "(94855.0, 82375.0, 29700.0, 22700.0)"
      ]
     },
     "execution_count": 593,
     "metadata": {},
     "output_type": "execute_result"
    }
   ],
   "source": [
    "# maxes and mins during the drawdown for employment and mining employment\n",
    "max(mp.Employment[40:85]), min(mp.Employment[40:85]), max(mp.MineEmploy[40:85]), min(mp.MineEmploy[40:85])"
   ]
  },
  {
   "cell_type": "code",
   "execution_count": 594,
   "metadata": {},
   "outputs": [
    {
     "data": {
      "text/plain": [
       "(106.75, 29.88)"
      ]
     },
     "execution_count": 594,
     "metadata": {},
     "output_type": "execute_result"
    }
   ],
   "source": [
    "# max and min prices\n",
    "max(mp.Price[40:85]), min(mp.Price[40:85])"
   ]
  },
  {
   "cell_type": "code",
   "execution_count": 595,
   "metadata": {},
   "outputs": [],
   "source": [
    "# crash recovery, pre crash, crash\n",
    "cr = mp[mp.Date >= '2015-06-01']\n",
    "pc = mp[mp.Date < '2014-06-01']\n",
    "c = mp.query(\"Date < '2015-06-01' and Date > '2014-06-01'\")"
   ]
  },
  {
   "cell_type": "code",
   "execution_count": 596,
   "metadata": {},
   "outputs": [],
   "source": [
    "# detrending \n",
    "price_dt = mp.Price.shift(1) - mp.Price\n",
    "employ_dt = mp.Employment.shift(1) - mp.Employment\n",
    "mine_dt = cr.MineEmploy.shift(1) - cr.MineEmploy"
   ]
  },
  {
   "cell_type": "code",
   "execution_count": 597,
   "metadata": {},
   "outputs": [
    {
     "data": {
      "image/png": "[encoded data removed]",
      "text/plain": [
       "<Figure size 432x288 with 2 Axes>"
      ]
     },
     "metadata": {
      "needs_background": "light"
     },
     "output_type": "display_data"
    }
   ],
   "source": [
    "# employment and oil price\n",
    "fig, ax1 = plt.subplots()\n",
    "\n",
    "color = 'tab:blue'\n",
    "ax1.set_xlabel('Year')\n",
    "ax1.set_ylabel('Employed Persons', color=color)\n",
    "ax1.plot(mp.Date,  mp.Employment, color=color)\n",
    "ax1.tick_params(axis='y', labelcolor=color)\n",
    "\n",
    "plt.xticks(rotation=45)\n",
    "ax2 = ax1.twinx()  # instantiate a second axes that shares the same x-axis\n",
    "\n",
    "color = 'tab:red'\n",
    "ax2.set_ylabel('Oil Price', color=color)  # we already handled the x-label with ax1\n",
    "ax2.plot(mp.Date, mp.Price, color=color)\n",
    "ax2.tick_params(axis='y', labelcolor=color)\n",
    "\n",
    "fig.tight_layout()  # otherwise the right y-label is slightly clipped\n",
    "plt.savefig(img + 'employment_and_price.png')\n",
    "plt.show()"
   ]
  },
  {
   "cell_type": "code",
   "execution_count": 598,
   "metadata": {},
   "outputs": [
    {
     "data": {
      "image/png": "[encoded data removed]",
      "text/plain": [
       "<Figure size 432x288 with 2 Axes>"
      ]
     },
     "metadata": {
      "needs_background": "light"
     },
     "output_type": "display_data"
    }
   ],
   "source": [
    "# employment and oil price smoothed\n",
    "fig, ax1 = plt.subplots()\n",
    "\n",
    "color = 'tab:blue'\n",
    "ax1.set_xlabel('Year')\n",
    "ax1.set_ylabel('Employed Persons', color=color)\n",
    "ax1.plot(mp.Date,  mp.Employment, color=color)\n",
    "ax1.tick_params(axis='y', labelcolor=color)\n",
    "\n",
    "plt.xticks(rotation=45)\n",
    "ax2 = ax1.twinx()  # instantiate a second axes that shares the same x-axis\n",
    "\n",
    "color = 'tab:red'\n",
    "ax2.set_ylabel('Oil Price Smoothed', color=color)  # we already handled the x-label with ax1\n",
    "ax2.plot(mp.Date, mp.RollingMean, color=color)\n",
    "ax2.tick_params(axis='y', labelcolor=color)\n",
    "\n",
    "fig.tight_layout()  # otherwise the right y-label is slightly clipped\n",
    "plt.savefig(img + 'employment_and_price_smoothed.png')\n",
    "plt.show()"
   ]
  },
  {
   "cell_type": "code",
   "execution_count": 599,
   "metadata": {},
   "outputs": [
    {
     "data": {
      "image/png": "[encoded data removed]",
      "text/plain": [
       "<Figure size 432x288 with 2 Axes>"
      ]
     },
     "metadata": {
      "needs_background": "light"
     },
     "output_type": "display_data"
    }
   ],
   "source": [
    "# employment and oil price\n",
    "fig, ax1 = plt.subplots()\n",
    "\n",
    "color = 'tab:blue'\n",
    "ax1.set_xlabel('Year')\n",
    "ax1.set_ylabel('Employed Persons', color=color)\n",
    "ax1.plot(cr.Date,  cr.Employment, color=color)\n",
    "ax1.tick_params(axis='y', labelcolor=color)\n",
    "\n",
    "plt.xticks(rotation=45)\n",
    "ax2 = ax1.twinx()  # instantiate a second axes that shares the same x-axis\n",
    "\n",
    "color = 'tab:red'\n",
    "ax2.set_ylabel('Oil Price', color=color)  # we already handled the x-label with ax1\n",
    "ax2.plot(cr.Date, cr.RollingMean, color=color)\n",
    "ax2.tick_params(axis='y', labelcolor=color)\n",
    "\n",
    "fig.tight_layout()  # otherwise the right y-label is slightly clipped\n",
    "plt.savefig(img + 'crash_and_employment_detrended.png')\n",
    "plt.show()"
   ]
  },
  {
   "cell_type": "code",
   "execution_count": 600,
   "metadata": {},
   "outputs": [
    {
     "data": {
      "image/png": "[encoded data removed]",
      "text/plain": [
       "<Figure size 432x288 with 2 Axes>"
      ]
     },
     "metadata": {
      "needs_background": "light"
     },
     "output_type": "display_data"
    }
   ],
   "source": [
    "# employment rate and national rate\n",
    "fig, ax1 = plt.subplots()\n",
    "\n",
    "color = 'tab:blue'\n",
    "ax1.set_xlabel('Year')\n",
    "ax1.set_ylabel('Midland, TX Unemployment Rate', color=color)\n",
    "ax1.plot(mp.Date, mp.Rate, color=color)\n",
    "ax1.tick_params(axis='y', labelcolor=color)\n",
    "\n",
    "plt.xticks(rotation=45)\n",
    "ax2 = ax1.twinx()  # instantiate a second axes that shares the same x-axis\n",
    "\n",
    "color = 'tab:red'\n",
    "ax2.set_ylabel('National Unemployment Rate', color=color)  # we already handled the x-label with ax1\n",
    "ax2.plot(mp.Date, mp.NationalRate, color=color)\n",
    "ax2.tick_params(axis='y', labelcolor=color)\n",
    "\n",
    "ax2.axvline(x=\"2015\", color='black', label='Oil hits $53 a barrel, from $115 6 months earlier')\n",
    "\n",
    "fig.tight_layout()  # otherwise the right y-label is slightly clipped\n",
    "plt.savefig(img + 'national_umeployment_versus_midland.png')\n",
    "plt.show()"
   ]
  },
  {
   "cell_type": "code",
   "execution_count": 601,
   "metadata": {},
   "outputs": [
    {
     "data": {
      "text/plain": [
       "0.8399348923957319"
      ]
     },
     "execution_count": 601,
     "metadata": {},
     "output_type": "execute_result"
    }
   ],
   "source": [
    "# sample correlation between employment and price\n",
    "sample_corr = np.corrcoef(cr.Employment, cr.Price)[0][1]\n",
    "sample_corr"
   ]
  },
  {
   "cell_type": "code",
   "execution_count": 581,
   "metadata": {},
   "outputs": [
    {
     "data": {
      "text/plain": [
       "0.0457"
      ]
     },
     "execution_count": 581,
     "metadata": {},
     "output_type": "execute_result"
    }
   ],
   "source": [
    "array_of_samples = []\n",
    "for i in range(10000):\n",
    "    monte_carlo_data = np.zeros_like(mp.Price)\n",
    "    sim_returns = np.random.normal(1, np.std((mp.Price/mp.Price.shift(-1))[1:] - 1), len(mp.Price))\n",
    "    monte_carlo_data[0] = mp.Price.values[0]\n",
    "    random_crash_day = int(np.random.uniform(1, len(mp.Price)))\n",
    "    for i in range(1, len(mp.Price)):\n",
    "        if i == random_crash_day:\n",
    "            crash_multiplier = np.random.uniform(.4, .85)\n",
    "            monte_carlo_data[i] = monte_carlo_data[i - 1] * crash_multiplier\n",
    "        else:\n",
    "            monte_carlo_data[i] = monte_carlo_data[i - 1] * sim_returns[i]\n",
    "    array_of_samples.append(np.array(monte_carlo_data))\n",
    "corrs = np.array([])\n",
    "for arr in array_of_samples:\n",
    "    corr = np.corrcoef(arr, mp.MineEmploy)[0][1]\n",
    "    corrs = np.append(corrs, corr)\n",
    "    \n",
    "#  base case compared to observed\n",
    "sample_corr = np.corrcoef(c.Price[1:], c.MineEmploy.shift(1)[1:])[0][1]\n",
    "np.sum(corrs > sample_corr)/len(corrs)"
   ]
  },
  {
   "cell_type": "code",
   "execution_count": 486,
   "metadata": {},
   "outputs": [],
   "source": [
    "# difference in difference regression, pre cleaning \n",
    "nat_rate = unemployment_rate_nat.rename(columns={\"NationalRate\":\"Rate\"})\n",
    "rate_regression = unemployment_rate.append(nat_rate[nat_rate.Date > \"2010-06-01\"], sort=True)\n",
    "rate_regression[\"Treatment\"] = rate_regression.Region == 'Midland'\n",
    "rate_regression[\"Treatment\"] = rate_regression[\"Treatment\"].astype(int)\n",
    "rate_regression[\"Post\"] = rate_regression.Date >= \"2015\" \n",
    "rate_regression[\"Post\"] = rate_regression[\"Post\"].astype(int)\n",
    "rate_regression[\"PostTreatment\"] = rate_regression[\"Treatment\"] * rate_regression[\"Post\"]\n",
    "rate_regression[\"Constant\"] = 1\n",
    "# dropping around 2015-01-01\n",
    "rate_regression = rate_regression[rate_regression.Date <= \"2018\"]\n",
    "rate_regression = rate_regression[rate_regression.Date >= \"2012\"]\n",
    "employ_regression.sort_values(\"Date\", inplace=True)"
   ]
  },
  {
   "cell_type": "code",
   "execution_count": 494,
   "metadata": {},
   "outputs": [
    {
     "name": "stdout",
     "output_type": "stream",
     "text": [
      "                            OLS Regression Results                            \n",
      "==============================================================================\n",
      "Dep. Variable:                   Rate   R-squared:                       0.836\n",
      "Model:                            OLS   Adj. R-squared:                  0.832\n",
      "Method:                 Least Squares   F-statistic:                     240.9\n",
      "Date:                Mon, 11 May 2020   Prob (F-statistic):           1.75e-55\n",
      "Time:                        00:04:41   Log-Likelihood:                 525.82\n",
      "No. Observations:                 146   AIC:                            -1044.\n",
      "Df Residuals:                     142   BIC:                            -1032.\n",
      "Df Model:                           3                                         \n",
      "Covariance Type:            nonrobust                                         \n",
      "=================================================================================\n",
      "                    coef    std err          t      P>|t|      [0.025      0.975]\n",
      "---------------------------------------------------------------------------------\n",
      "Treatment        -0.0371      0.002    -23.537      0.000      -0.040      -0.034\n",
      "Post             -0.0239      0.002    -15.228      0.000      -0.027      -0.021\n",
      "PostTreatment     0.0249      0.002     11.220      0.000       0.020       0.029\n",
      "Constant          0.0720      0.001     64.510      0.000       0.070       0.074\n",
      "==============================================================================\n",
      "Omnibus:                        4.524   Durbin-Watson:                   0.270\n",
      "Prob(Omnibus):                  0.104   Jarque-Bera (JB):                3.328\n",
      "Skew:                          -0.232   Prob(JB):                        0.189\n",
      "Kurtosis:                       2.424   Cond. No.                         6.90\n",
      "==============================================================================\n",
      "\n",
      "Warnings:\n",
      "[1] Standard Errors assume that the covariance matrix of the errors is correctly specified.\n"
     ]
    }
   ],
   "source": [
    "# the regression itself\n",
    "import statsmodels.api as sm\n",
    "X_rate = rate_regression[[\"Treatment\", \"Post\", \"PostTreatment\", \"Constant\"]]\n",
    "model_rate = sm.OLS(rate_regression.Rate, X_rate)\n",
    "results_rate = model_rate.fit()\n",
    "print(results_rate.summary())"
   ]
  },
  {
   "cell_type": "code",
   "execution_count": 495,
   "metadata": {},
   "outputs": [
    {
     "data": {
      "text/plain": [
       "'<table style=\"text-align:center\"><tr><td colspan=\"2\" style=\"border-bottom: 1px solid black\"></td></tr><tr><td style=\"text-align:left\"></td><td colspan=\"1\"><em>Dependent variable:</em></td></tr><tr><td style=\"text-align:left\"></td><tr><td style=\"text-align:left\"></td><td>(1)</td></tr><tr><td colspan=\"2\" style=\"border-bottom: 1px solid black\"></td></tr><tr><td style=\"text-align:left\">Constant</td><td>0.072<sup>***</sup></td></tr><tr><td style=\"text-align:left\"></td><td>(0.001)</td></tr><tr><td style=\"text-align:left\">Post</td><td>-0.024<sup>***</sup></td></tr><tr><td style=\"text-align:left\"></td><td>(0.002)</td></tr><tr><td style=\"text-align:left\">PostTreatment</td><td>0.025<sup>***</sup></td></tr><tr><td style=\"text-align:left\"></td><td>(0.002)</td></tr><tr><td style=\"text-align:left\">Treatment</td><td>-0.037<sup>***</sup></td></tr><tr><td style=\"text-align:left\"></td><td>(0.002)</td></tr><td colspan=\"2\" style=\"border-bottom: 1px solid black\"></td></tr><tr><td style=\"text-align: left\">Observations</td><td>146.0</td></tr><tr><td style=\"text-align: left\">R<sup>2</sup></td><td>0.836</td></tr><tr><td style=\"text-align: left\">Adjusted R<sup>2</sup></td><td>0.832</td></tr><tr><td style=\"text-align: left\">Residual Std. Error</td><td>0.007(df = 142.0)</td></tr><tr><td style=\"text-align: left\">F Statistic</td><td>240.852<sup>***</sup>(df = 3.0; 142.0)</td></tr><tr><td colspan=\"2\" style=\"border-bottom: 1px solid black\"></td></tr><tr><td style=\"text-align: left\">Note:</td>\\n <td colspan=\"1\" style=\"text-align: right\">\\n  <sup>*</sup>p&lt;0.1;\\n  <sup>**</sup>p&lt;0.05;\\n  <sup>***</sup>p&lt;0.01\\n </td></tr></table>'"
      ]
     },
     "execution_count": 495,
     "metadata": {},
     "output_type": "execute_result"
    }
   ],
   "source": [
    "# html rendering\n",
    "from stargazer.stargazer import Stargazer\n",
    "from IPython.core.display import HTML\n",
    "\n",
    "stargazer = Stargazer([results])\n",
    "stargazer.render_html()"
   ]
  },
  {
   "cell_type": "code",
   "execution_count": 496,
   "metadata": {},
   "outputs": [],
   "source": [
    "# a less meaningful regression\n",
    "employ_regression = mining_employment[[\"Date\", \"MineEmploy\"]]\n",
    "employ_regression[\"MineEmploy\"] = (employ_regression[\"MineEmploy\"] - np.mean(employ_regression[\"MineEmploy\"]))/np.std(employ_regression[\"MineEmploy\"])\n",
    "employ_regression.rename(columns={\"MineEmploy\":\"Employment\"}, inplace=True)\n",
    "employ_regression[\"Type\"] = \"Mining\"\n",
    "add_employment = total_employees[[\"Date\", \"Employment\"]]\n",
    "for_subtracting = employ_regression.merge(add_employment, on=\"Date\", how='inner')\n",
    "employees_ex_mining = for_subtracting.Employment_y - for_subtracting.Employment_x\n",
    "add_employment = for_subtracting[[\"Date\"]].copy()\n",
    "add_employment[\"Employment\"] = (employees_ex_mining - np.mean(employees_ex_mining))/np.std(employees_ex_mining)\n",
    "add_employment[\"Type\"] = \"All\"\n",
    "employ_regression = employ_regression.append(add_employment)\n",
    "employ_regression[\"Treatment\"] = employ_regression.Type == 'Mining'\n",
    "employ_regression[\"Treatment\"] = employ_regression[\"Treatment\"].astype(int)\n",
    "employ_regression[\"Post\"] = employ_regression.Date >= \"2015\" \n",
    "employ_regression[\"Post\"] = employ_regression[\"Post\"].astype(int)\n",
    "employ_regression[\"PostTreatment\"] = employ_regression[\"Treatment\"] * employ_regression[\"Post\"]\n",
    "employ_regression[\"Constant\"] = 1\n",
    "employ_regression = employ_regression[employ_regression.Date <= \"2018\"]\n",
    "employ_regression = employ_regression[employ_regression.Date >= \"2012\"]\n",
    "employ_regression.sort_values(\"Date\", inplace=True)"
   ]
  },
  {
   "cell_type": "code",
   "execution_count": 497,
   "metadata": {},
   "outputs": [
    {
     "name": "stdout",
     "output_type": "stream",
     "text": [
      "                            OLS Regression Results                            \n",
      "==============================================================================\n",
      "Dep. Variable:             Employment   R-squared:                       0.097\n",
      "Model:                            OLS   Adj. R-squared:                  0.078\n",
      "Method:                 Least Squares   F-statistic:                     5.085\n",
      "Date:                Mon, 11 May 2020   Prob (F-statistic):            0.00225\n",
      "Time:                        00:04:54   Log-Likelihood:                -75.808\n",
      "No. Observations:                 146   AIC:                             159.6\n",
      "Df Residuals:                     142   BIC:                             171.5\n",
      "Df Model:                           3                                         \n",
      "Covariance Type:            nonrobust                                         \n",
      "=================================================================================\n",
      "                    coef    std err          t      P>|t|      [0.025      0.975]\n",
      "---------------------------------------------------------------------------------\n",
      "Treatment        -0.1384      0.097     -1.424      0.157      -0.331       0.054\n",
      "Post              0.2263      0.097      2.344      0.020       0.035       0.417\n",
      "PostTreatment    -0.1217      0.137     -0.891      0.374      -0.392       0.148\n",
      "Constant          0.2865      0.069      4.169      0.000       0.151       0.422\n",
      "==============================================================================\n",
      "Omnibus:                        7.134   Durbin-Watson:                   0.054\n",
      "Prob(Omnibus):                  0.028   Jarque-Bera (JB):                6.867\n",
      "Skew:                           0.478   Prob(JB):                       0.0323\n",
      "Kurtosis:                       2.538   Cond. No.                         6.90\n",
      "==============================================================================\n",
      "\n",
      "Warnings:\n",
      "[1] Standard Errors assume that the covariance matrix of the errors is correctly specified.\n"
     ]
    }
   ],
   "source": [
    "# other model\n",
    "X_employ = employ_regression[[\"Treatment\", \"Post\", \"PostTreatment\", \"Constant\"]]\n",
    "model_employ = sm.OLS(employ_regression.Employment, X_employ)\n",
    "results_employ = model_employ.fit()\n",
    "print(results_employ.summary())"
   ]
  },
  {
   "cell_type": "code",
   "execution_count": null,
   "metadata": {},
   "outputs": [],
   "source": []
  }
 ],
 "metadata": {
  "kernelspec": {
   "display_name": "Python 3",
   "language": "python",
   "name": "python3"
  },
  "language_info": {
   "codemirror_mode": {
    "name": "ipython",
    "version": 3
   },
   "file_extension": ".py",
   "mimetype": "text/x-python",
   "name": "python",
   "nbconvert_exporter": "python",
   "pygments_lexer": "ipython3",
   "version": "3.7.6"
  }
 },
 "nbformat": 4,
 "nbformat_minor": 4
}
