{
 "cells": [
  {
   "cell_type": "code",
   "execution_count": 47,
   "metadata": {},
   "outputs": [],
   "source": [
    "import numpy as np\n",
    "import pandas as pd\n",
    "import linearmodels\n",
    "import matplotlib.pyplot as plt\n",
    "%matplotlib inline"
   ]
  },
  {
   "cell_type": "code",
   "execution_count": 214,
   "metadata": {},
   "outputs": [],
   "source": [
    "d = 'csv_data/'\n",
    "labor_force = pd.read_csv(d + 'civilian_labor_force.csv')\n",
    "labor_force['DATE'] = pd.to_datetime(labor_force['DATE'])\n",
    "\n",
    "df1 = pd.read_csv(d+ 'midland_employee_total_count.csv')\n",
    "df1 = df1.set_index(['Year']).stack().reset_index()\n",
    "df1 = df1[df1.level_1 != 'Annual']\n",
    "date = df1['Year'].astype(str) + ' '+ df1['level_1']\n",
    "df1['Date'] = pd.to_datetime(date)\n",
    "df1['Employment'] = df1[[0]]\n",
    "total_employees = df1.drop(columns=['Year', 'level_1', 0])\n",
    "\n",
    "mining_employment =  pd.read_csv(d + 'midland_mining_employment_thousands_of_people_per_year.csv')\n",
    "df2 = mining_employment.set_index(['Year']).stack().reset_index()\n",
    "df2 = df2[df2.level_1 != 'Annual']\n",
    "date = df2['Year'].astype(str) + ' '+ df2['level_1']\n",
    "df2['Date'] = pd.to_datetime(date)\n",
    "df2['MineEmploy'] = df2[[0]]\n",
    "df2['MineEmploy'] *= 1000\n",
    "mining_employment = df2.drop(columns=['Year', 'level_1', 0])\n",
    "\n",
    "unemployment_rate = pd.read_csv(d +'unemployment_rate_midland_tx_by_year.csv')\n",
    "df3 = unemployment_rate.set_index(['Year']).stack().reset_index()\n",
    "df3 = df3[df3.level_1 != 'Annual']\n",
    "date = df3['Year'].astype(str) + ' '+ df3['level_1']\n",
    "df3['Date'] = pd.to_datetime(date)\n",
    "df3.replace('x', '0', inplace=True)\n",
    "# df[50] = (unemployment_rate.loc[45:49].mean() + unemployment_rate.loc[51:55].mean()) / 2\n",
    "df3.replace('   ', '3.71', inplace=True)\n",
    "df3['Rate'] = df3[[0]]\n",
    "df3['Rate'] = df3.Rate.astype(float)\n",
    "df3['Rate'] /= 100\n",
    "df3['Region'] = \"Midland\"\n",
    "unemployment_rate = df3.drop(columns=['Year', 'level_1', 0])\n",
    "\n",
    "df4 = pd.read_csv(d +'unemployment_rate.csv')\n",
    "df4['NationalRate'] = df4.UNRATE.astype(float)/100\n",
    "df4['Date'] =pd.to_datetime(df4['DATE'])\n",
    "df4['Region'] = \"National\"\n",
    "unemployment_rate_nat = df4.drop(columns=['DATE', 'UNRATE'])\n",
    "\n",
    "\n",
    "oil_price = pd.read_csv(d + 'WTI_Oil.csv')\n",
    "oil_price['Date'] = pd.to_datetime(oil_price['Date'])\n",
    "oil_price['RollingMean'] = oil_price['Price'].rolling(100).mean()"
   ]
  },
  {
   "cell_type": "code",
   "execution_count": 215,
   "metadata": {},
   "outputs": [
    {
     "data": {
      "text/html": [
       "<div>\n",
       "<style scoped>\n",
       "    .dataframe tbody tr th:only-of-type {\n",
       "        vertical-align: middle;\n",
       "    }\n",
       "\n",
       "    .dataframe tbody tr th {\n",
       "        vertical-align: top;\n",
       "    }\n",
       "\n",
       "    .dataframe thead th {\n",
       "        text-align: right;\n",
       "    }\n",
       "</style>\n",
       "<table border=\"1\" class=\"dataframe\">\n",
       "  <thead>\n",
       "    <tr style=\"text-align: right;\">\n",
       "      <th></th>\n",
       "      <th>NationalRate</th>\n",
       "      <th>Date</th>\n",
       "      <th>Region</th>\n",
       "    </tr>\n",
       "  </thead>\n",
       "  <tbody>\n",
       "    <tr>\n",
       "      <th>0</th>\n",
       "      <td>0.034</td>\n",
       "      <td>1948-01-01</td>\n",
       "      <td>National</td>\n",
       "    </tr>\n",
       "    <tr>\n",
       "      <th>1</th>\n",
       "      <td>0.038</td>\n",
       "      <td>1948-02-01</td>\n",
       "      <td>National</td>\n",
       "    </tr>\n",
       "    <tr>\n",
       "      <th>2</th>\n",
       "      <td>0.040</td>\n",
       "      <td>1948-03-01</td>\n",
       "      <td>National</td>\n",
       "    </tr>\n",
       "    <tr>\n",
       "      <th>3</th>\n",
       "      <td>0.039</td>\n",
       "      <td>1948-04-01</td>\n",
       "      <td>National</td>\n",
       "    </tr>\n",
       "    <tr>\n",
       "      <th>4</th>\n",
       "      <td>0.035</td>\n",
       "      <td>1948-05-01</td>\n",
       "      <td>National</td>\n",
       "    </tr>\n",
       "  </tbody>\n",
       "</table>\n",
       "</div>"
      ],
      "text/plain": [
       "   NationalRate       Date    Region\n",
       "0         0.034 1948-01-01  National\n",
       "1         0.038 1948-02-01  National\n",
       "2         0.040 1948-03-01  National\n",
       "3         0.039 1948-04-01  National\n",
       "4         0.035 1948-05-01  National"
      ]
     },
     "execution_count": 215,
     "metadata": {},
     "output_type": "execute_result"
    }
   ],
   "source": [
    "unemployment_rate_nat.head()"
   ]
  },
  {
   "cell_type": "code",
   "execution_count": 216,
   "metadata": {},
   "outputs": [
    {
     "data": {
      "text/html": [
       "<div>\n",
       "<style scoped>\n",
       "    .dataframe tbody tr th:only-of-type {\n",
       "        vertical-align: middle;\n",
       "    }\n",
       "\n",
       "    .dataframe tbody tr th {\n",
       "        vertical-align: top;\n",
       "    }\n",
       "\n",
       "    .dataframe thead th {\n",
       "        text-align: right;\n",
       "    }\n",
       "</style>\n",
       "<table border=\"1\" class=\"dataframe\">\n",
       "  <thead>\n",
       "    <tr style=\"text-align: right;\">\n",
       "      <th></th>\n",
       "      <th>Date</th>\n",
       "      <th>MineEmploy</th>\n",
       "    </tr>\n",
       "  </thead>\n",
       "  <tbody>\n",
       "    <tr>\n",
       "      <th>0</th>\n",
       "      <td>2009-01-01</td>\n",
       "      <td>16800.0</td>\n",
       "    </tr>\n",
       "    <tr>\n",
       "      <th>1</th>\n",
       "      <td>2009-02-01</td>\n",
       "      <td>16200.0</td>\n",
       "    </tr>\n",
       "    <tr>\n",
       "      <th>2</th>\n",
       "      <td>2009-03-01</td>\n",
       "      <td>15700.0</td>\n",
       "    </tr>\n",
       "    <tr>\n",
       "      <th>3</th>\n",
       "      <td>2009-04-01</td>\n",
       "      <td>15100.0</td>\n",
       "    </tr>\n",
       "    <tr>\n",
       "      <th>4</th>\n",
       "      <td>2009-05-01</td>\n",
       "      <td>14700.0</td>\n",
       "    </tr>\n",
       "  </tbody>\n",
       "</table>\n",
       "</div>"
      ],
      "text/plain": [
       "        Date  MineEmploy\n",
       "0 2009-01-01     16800.0\n",
       "1 2009-02-01     16200.0\n",
       "2 2009-03-01     15700.0\n",
       "3 2009-04-01     15100.0\n",
       "4 2009-05-01     14700.0"
      ]
     },
     "execution_count": 216,
     "metadata": {},
     "output_type": "execute_result"
    }
   ],
   "source": [
    "mining_employment.head()"
   ]
  },
  {
   "cell_type": "code",
   "execution_count": 217,
   "metadata": {},
   "outputs": [
    {
     "data": {
      "text/html": [
       "<div>\n",
       "<style scoped>\n",
       "    .dataframe tbody tr th:only-of-type {\n",
       "        vertical-align: middle;\n",
       "    }\n",
       "\n",
       "    .dataframe tbody tr th {\n",
       "        vertical-align: top;\n",
       "    }\n",
       "\n",
       "    .dataframe thead th {\n",
       "        text-align: right;\n",
       "    }\n",
       "</style>\n",
       "<table border=\"1\" class=\"dataframe\">\n",
       "  <thead>\n",
       "    <tr style=\"text-align: right;\">\n",
       "      <th></th>\n",
       "      <th>Date</th>\n",
       "      <th>Rate</th>\n",
       "      <th>Region</th>\n",
       "    </tr>\n",
       "  </thead>\n",
       "  <tbody>\n",
       "    <tr>\n",
       "      <th>0</th>\n",
       "      <td>2009-01-01</td>\n",
       "      <td>0.000</td>\n",
       "      <td>Midland</td>\n",
       "    </tr>\n",
       "    <tr>\n",
       "      <th>1</th>\n",
       "      <td>2009-02-01</td>\n",
       "      <td>0.040</td>\n",
       "      <td>Midland</td>\n",
       "    </tr>\n",
       "    <tr>\n",
       "      <th>2</th>\n",
       "      <td>2009-03-01</td>\n",
       "      <td>0.044</td>\n",
       "      <td>Midland</td>\n",
       "    </tr>\n",
       "    <tr>\n",
       "      <th>3</th>\n",
       "      <td>2009-04-01</td>\n",
       "      <td>0.045</td>\n",
       "      <td>Midland</td>\n",
       "    </tr>\n",
       "    <tr>\n",
       "      <th>4</th>\n",
       "      <td>2009-05-01</td>\n",
       "      <td>0.057</td>\n",
       "      <td>Midland</td>\n",
       "    </tr>\n",
       "  </tbody>\n",
       "</table>\n",
       "</div>"
      ],
      "text/plain": [
       "        Date   Rate   Region\n",
       "0 2009-01-01  0.000  Midland\n",
       "1 2009-02-01  0.040  Midland\n",
       "2 2009-03-01  0.044  Midland\n",
       "3 2009-04-01  0.045  Midland\n",
       "4 2009-05-01  0.057  Midland"
      ]
     },
     "execution_count": 217,
     "metadata": {},
     "output_type": "execute_result"
    }
   ],
   "source": [
    "unemployment_rate.head()"
   ]
  },
  {
   "cell_type": "code",
   "execution_count": 218,
   "metadata": {},
   "outputs": [
    {
     "data": {
      "text/html": [
       "<div>\n",
       "<style scoped>\n",
       "    .dataframe tbody tr th:only-of-type {\n",
       "        vertical-align: middle;\n",
       "    }\n",
       "\n",
       "    .dataframe tbody tr th {\n",
       "        vertical-align: top;\n",
       "    }\n",
       "\n",
       "    .dataframe thead th {\n",
       "        text-align: right;\n",
       "    }\n",
       "</style>\n",
       "<table border=\"1\" class=\"dataframe\">\n",
       "  <thead>\n",
       "    <tr style=\"text-align: right;\">\n",
       "      <th></th>\n",
       "      <th>Date</th>\n",
       "      <th>Price</th>\n",
       "      <th>Open</th>\n",
       "      <th>High</th>\n",
       "      <th>Low</th>\n",
       "      <th>Vol.</th>\n",
       "      <th>Change %</th>\n",
       "      <th>RollingMean</th>\n",
       "      <th>Rate</th>\n",
       "      <th>Region_x</th>\n",
       "      <th>MineEmploy</th>\n",
       "      <th>Employment</th>\n",
       "      <th>DATE</th>\n",
       "      <th>TXMIDL9LFN</th>\n",
       "      <th>NationalRate</th>\n",
       "      <th>Region_y</th>\n",
       "    </tr>\n",
       "  </thead>\n",
       "  <tbody>\n",
       "    <tr>\n",
       "      <th>68</th>\n",
       "      <td>2010-06-01</td>\n",
       "      <td>72.58</td>\n",
       "      <td>73.97</td>\n",
       "      <td>75.33</td>\n",
       "      <td>71.64</td>\n",
       "      <td>438.59K</td>\n",
       "      <td>-1.88%</td>\n",
       "      <td>76.8473</td>\n",
       "      <td>0.062</td>\n",
       "      <td>Midland</td>\n",
       "      <td>16000.0</td>\n",
       "      <td>67650.0</td>\n",
       "      <td>2010-06-01</td>\n",
       "      <td>71271</td>\n",
       "      <td>0.094</td>\n",
       "      <td>National</td>\n",
       "    </tr>\n",
       "    <tr>\n",
       "      <th>67</th>\n",
       "      <td>2010-07-01</td>\n",
       "      <td>72.95</td>\n",
       "      <td>75.37</td>\n",
       "      <td>75.40</td>\n",
       "      <td>72.05</td>\n",
       "      <td>405.08K</td>\n",
       "      <td>-3.54%</td>\n",
       "      <td>78.6886</td>\n",
       "      <td>0.060</td>\n",
       "      <td>Midland</td>\n",
       "      <td>16200.0</td>\n",
       "      <td>67436.0</td>\n",
       "      <td>2010-07-01</td>\n",
       "      <td>72057</td>\n",
       "      <td>0.094</td>\n",
       "      <td>National</td>\n",
       "    </tr>\n",
       "    <tr>\n",
       "      <th>66</th>\n",
       "      <td>2010-09-01</td>\n",
       "      <td>73.91</td>\n",
       "      <td>71.70</td>\n",
       "      <td>74.48</td>\n",
       "      <td>71.67</td>\n",
       "      <td>396.61K</td>\n",
       "      <td>2.77%</td>\n",
       "      <td>83.9261</td>\n",
       "      <td>0.055</td>\n",
       "      <td>Midland</td>\n",
       "      <td>16400.0</td>\n",
       "      <td>68297.0</td>\n",
       "      <td>2010-09-01</td>\n",
       "      <td>72494</td>\n",
       "      <td>0.095</td>\n",
       "      <td>National</td>\n",
       "    </tr>\n",
       "    <tr>\n",
       "      <th>65</th>\n",
       "      <td>2010-10-01</td>\n",
       "      <td>81.58</td>\n",
       "      <td>79.84</td>\n",
       "      <td>81.75</td>\n",
       "      <td>79.70</td>\n",
       "      <td>359.94K</td>\n",
       "      <td>2.01%</td>\n",
       "      <td>86.5977</td>\n",
       "      <td>0.053</td>\n",
       "      <td>Midland</td>\n",
       "      <td>16700.0</td>\n",
       "      <td>69269.0</td>\n",
       "      <td>2010-10-01</td>\n",
       "      <td>72676</td>\n",
       "      <td>0.094</td>\n",
       "      <td>National</td>\n",
       "    </tr>\n",
       "    <tr>\n",
       "      <th>64</th>\n",
       "      <td>2010-11-01</td>\n",
       "      <td>82.95</td>\n",
       "      <td>81.45</td>\n",
       "      <td>83.86</td>\n",
       "      <td>81.32</td>\n",
       "      <td>358.54K</td>\n",
       "      <td>1.87%</td>\n",
       "      <td>90.7384</td>\n",
       "      <td>0.055</td>\n",
       "      <td>Midland</td>\n",
       "      <td>16800.0</td>\n",
       "      <td>69593.0</td>\n",
       "      <td>2010-11-01</td>\n",
       "      <td>72986</td>\n",
       "      <td>0.098</td>\n",
       "      <td>National</td>\n",
       "    </tr>\n",
       "  </tbody>\n",
       "</table>\n",
       "</div>"
      ],
      "text/plain": [
       "         Date  Price   Open   High    Low     Vol. Change %  RollingMean  \\\n",
       "68 2010-06-01  72.58  73.97  75.33  71.64  438.59K   -1.88%      76.8473   \n",
       "67 2010-07-01  72.95  75.37  75.40  72.05  405.08K   -3.54%      78.6886   \n",
       "66 2010-09-01  73.91  71.70  74.48  71.67  396.61K    2.77%      83.9261   \n",
       "65 2010-10-01  81.58  79.84  81.75  79.70  359.94K    2.01%      86.5977   \n",
       "64 2010-11-01  82.95  81.45  83.86  81.32  358.54K    1.87%      90.7384   \n",
       "\n",
       "     Rate Region_x  MineEmploy  Employment       DATE  TXMIDL9LFN  \\\n",
       "68  0.062  Midland     16000.0     67650.0 2010-06-01       71271   \n",
       "67  0.060  Midland     16200.0     67436.0 2010-07-01       72057   \n",
       "66  0.055  Midland     16400.0     68297.0 2010-09-01       72494   \n",
       "65  0.053  Midland     16700.0     69269.0 2010-10-01       72676   \n",
       "64  0.055  Midland     16800.0     69593.0 2010-11-01       72986   \n",
       "\n",
       "    NationalRate  Region_y  \n",
       "68         0.094  National  \n",
       "67         0.094  National  \n",
       "66         0.095  National  \n",
       "65         0.094  National  \n",
       "64         0.098  National  "
      ]
     },
     "execution_count": 218,
     "metadata": {},
     "output_type": "execute_result"
    }
   ],
   "source": [
    "mp = oil_price.merge(unemployment_rate, on='Date').merge(mining_employment, on='Date').merge(total_employees, on='Date').merge(labor_force, left_on='Date', right_on='DATE').merge(unemployment_rate_nat, left_on='Date', right_on='Date').sort_values('Date').sort_values('Date')\n",
    "mp.head()"
   ]
  },
  {
   "cell_type": "code",
   "execution_count": 219,
   "metadata": {},
   "outputs": [],
   "source": [
    "img = 'images/'"
   ]
  },
  {
   "cell_type": "code",
   "execution_count": 220,
   "metadata": {},
   "outputs": [
    {
     "data": {
      "image/png": "[encoded data removed]",
      "text/plain": [
       "<Figure size 432x288 with 1 Axes>"
      ]
     },
     "metadata": {
      "needs_background": "light"
     },
     "output_type": "display_data"
    }
   ],
   "source": [
    "plt.plot(mp.Date, mp.Rate)\n",
    "plt.title('Midland Texas Total Employment Over Time')\n",
    "plt.xlabel('Time')\n",
    "plt.ylabel('Persons Employed');\n",
    "plt.savefig(img + 'employment_over_time.png')"
   ]
  },
  {
   "cell_type": "code",
   "execution_count": 221,
   "metadata": {},
   "outputs": [
    {
     "data": {
      "image/png": "[encoded data removed]",
      "text/plain": [
       "<Figure size 432x288 with 1 Axes>"
      ]
     },
     "metadata": {
      "needs_background": "light"
     },
     "output_type": "display_data"
    }
   ],
   "source": [
    "plt.plot(mp.Date, mp.Price)\n",
    "plt.title('Oil Price Over Time (WTI)')\n",
    "plt.xlabel('Time')\n",
    "plt.ylabel('Price per Barrel');\n",
    "plt.savefig(img + 'oil_price_over_time.png');"
   ]
  },
  {
   "cell_type": "code",
   "execution_count": 222,
   "metadata": {},
   "outputs": [
    {
     "data": {
      "image/png": "[encoded data removed]",
      "text/plain": [
       "<Figure size 432x288 with 1 Axes>"
      ]
     },
     "metadata": {
      "needs_background": "light"
     },
     "output_type": "display_data"
    }
   ],
   "source": [
    "plt.plot(mp.Date, mp.MineEmploy)\n",
    "plt.title('Midland Taxes Mining Employment')\n",
    "plt.xlabel('Time')\n",
    "plt.ylabel('Mining Persons Employed');\n",
    "plt.savefig(img + 'mining_employment_over_time.png');"
   ]
  },
  {
   "cell_type": "code",
   "execution_count": 223,
   "metadata": {},
   "outputs": [
    {
     "data": {
      "text/plain": [
       "(94855.0, 81915.0, 29700.0, 22700.0)"
      ]
     },
     "execution_count": 223,
     "metadata": {},
     "output_type": "execute_result"
    }
   ],
   "source": [
    "max(mp.Employment[20:60]), min(mp.Employment[20:60]), max(mp.MineEmploy[20:60]), min(mp.MineEmploy[20:60])"
   ]
  },
  {
   "cell_type": "code",
   "execution_count": 224,
   "metadata": {},
   "outputs": [
    {
     "data": {
      "text/plain": [
       "(107.89, 31.62)"
      ]
     },
     "execution_count": 224,
     "metadata": {},
     "output_type": "execute_result"
    }
   ],
   "source": [
    "max(mp.Price[20:60]), min(mp.Price[20:60])"
   ]
  },
  {
   "cell_type": "code",
   "execution_count": 225,
   "metadata": {},
   "outputs": [],
   "source": [
    "array_of_samples = []\n",
    "for i in range(10):\n",
    "    monte_carlo_data = np.zeros_like(mp.Price)\n",
    "    sim_returns = np.random.normal(1, 12*np.sqrt(np.std((mp.Price/mp.Price.shift(1))[1:] - 1)/252), len(mp.Price))\n",
    "    monte_carlo_data[0] = mp.Price.values[0]\n",
    "    for i in range(1, len(mp.Price)):\n",
    "        monte_carlo_data[i] = monte_carlo_data[i - 1] * sim_returns[i]\n",
    "    array_of_samples.append(np.array(monte_carlo_data))\n",
    "    "
   ]
  },
  {
   "cell_type": "code",
   "execution_count": 226,
   "metadata": {},
   "outputs": [],
   "source": [
    "array_of_samples;"
   ]
  },
  {
   "cell_type": "code",
   "execution_count": 227,
   "metadata": {},
   "outputs": [],
   "source": [
    "cr = mp[mp.Date > '2014-06-01']\n",
    "pc = mp[mp.Date < '2014-06-01']\n",
    "c = mp.query(\"Date < '2016-09-01' and Date > '2014-09-01'\")"
   ]
  },
  {
   "cell_type": "code",
   "execution_count": 228,
   "metadata": {},
   "outputs": [],
   "source": [
    "price_dt = mp.Price.shift(1) - mp.Price\n",
    "employ_dt = mp.Employment.shift(1) - mp.Employment\n",
    "mine_dt = cr.MineEmploy.shift(1) - cr.MineEmploy"
   ]
  },
  {
   "cell_type": "code",
   "execution_count": 229,
   "metadata": {},
   "outputs": [
    {
     "data": {
      "image/png": "[encoded data removed]",
      "text/plain": [
       "<Figure size 432x288 with 2 Axes>"
      ]
     },
     "metadata": {
      "needs_background": "light"
     },
     "output_type": "display_data"
    }
   ],
   "source": [
    "fig, ax1 = plt.subplots()\n",
    "\n",
    "color = 'tab:blue'\n",
    "ax1.set_xlabel('Year')\n",
    "ax1.set_ylabel('Employment Detrended', color=color)\n",
    "ax1.plot(cr.Date,  cr.Employment, color=color)\n",
    "ax1.tick_params(axis='y', labelcolor=color)\n",
    "\n",
    "ax2 = ax1.twinx()  # instantiate a second axes that shares the same x-axis\n",
    "\n",
    "color = 'tab:red'\n",
    "ax2.set_ylabel('Oil Price Detrended', color=color)  # we already handled the x-label with ax1\n",
    "ax2.plot(cr.Date, cr.RollingMean, color=color)\n",
    "ax2.tick_params(axis='y', labelcolor=color)\n",
    "\n",
    "fig.tight_layout()  # otherwise the right y-label is slightly clipped\n",
    "plt.show()"
   ]
  },
  {
   "cell_type": "code",
   "execution_count": 230,
   "metadata": {},
   "outputs": [
    {
     "data": {
      "image/png": "[encoded data removed]",
      "text/plain": [
       "<Figure size 432x288 with 2 Axes>"
      ]
     },
     "metadata": {
      "needs_background": "light"
     },
     "output_type": "display_data"
    }
   ],
   "source": [
    "fig, ax1 = plt.subplots()\n",
    "\n",
    "color = 'tab:blue'\n",
    "ax1.set_xlabel('Year')\n",
    "ax1.set_ylabel('Midland, TX Employment Rate', color=color)\n",
    "ax1.plot(mp.Date, mp.Rate, color=color)\n",
    "ax1.tick_params(axis='y', labelcolor=color)\n",
    "\n",
    "ax2 = ax1.twinx()  # instantiate a second axes that shares the same x-axis\n",
    "\n",
    "color = 'tab:red'\n",
    "ax2.set_ylabel('National Unemployment Rate', color=color)  # we already handled the x-label with ax1\n",
    "ax2.plot(mp.Date, mp.NationalRate, color=color)\n",
    "ax2.tick_params(axis='y', labelcolor=color)\n",
    "\n",
    "ax2.axvline(x=\"2015\", color='black', label='Oil hits $53 a barrel, from $115 6 months earlier')\n",
    "\n",
    "fig.tight_layout()  # otherwise the right y-label is slightly clipped\n",
    "plt.savefig(img + 'national_umeployment_versus_midland.png')\n",
    "plt.show()"
   ]
  },
  {
   "cell_type": "code",
   "execution_count": 231,
   "metadata": {},
   "outputs": [
    {
     "data": {
      "text/plain": [
       "0.5260938092479764"
      ]
     },
     "execution_count": 231,
     "metadata": {},
     "output_type": "execute_result"
    }
   ],
   "source": [
    "sample_corr = np.corrcoef(cr.Employment, cr.Price)[0][1]\n",
    "sample_corr"
   ]
  },
  {
   "cell_type": "code",
   "execution_count": 232,
   "metadata": {},
   "outputs": [
    {
     "data": {
      "text/plain": [
       "0.0305"
      ]
     },
     "execution_count": 232,
     "metadata": {},
     "output_type": "execute_result"
    }
   ],
   "source": [
    "array_of_samples = []\n",
    "for i in range(10000):\n",
    "    monte_carlo_data = np.zeros_like(mp.Price)\n",
    "    sim_returns = np.random.normal(1, np.std((mp.Price/mp.Price.shift(-1))[1:] - 1), len(mp.Price))\n",
    "    monte_carlo_data[0] = mp.Price.values[0]\n",
    "    random_crash_day = int(np.random.uniform(1, len(mp.Price)))\n",
    "    for i in range(1, len(mp.Price)):\n",
    "        if i == random_crash_day:\n",
    "            crash_multiplier = np.random.uniform(.4, .85)\n",
    "            monte_carlo_data[i] = monte_carlo_data[i - 1] * crash_multiplier\n",
    "        else:\n",
    "            monte_carlo_data[i] = monte_carlo_data[i - 1] * sim_returns[i]\n",
    "    array_of_samples.append(np.array(monte_carlo_data))\n",
    "corrs = np.array([])\n",
    "for arr in array_of_samples:\n",
    "    corr = np.corrcoef(arr, mp.MineEmploy)[0][1]\n",
    "    corrs = np.append(corrs, corr)\n",
    "# this where you can compare base case to what we've observed\n",
    "sample_corr = np.corrcoef(c.Price[1:], c.MineEmploy.shift(1)[1:])[0][1]\n",
    "np.sum(corrs > sample_corr)/len(corrs)"
   ]
  },
  {
   "cell_type": "code",
   "execution_count": 233,
   "metadata": {},
   "outputs": [],
   "source": [
    "nat_rate = unemployment_rate_nat.rename(columns={\"NationalRate\":\"Rate\"})\n",
    "regression = unemployment_rate.append(nat_rate[nat_rate.Date > \"2010-06-01\"]).merge(oil_price[[\"Date\", \"RollingMean\"]], on='Date')\n",
    "regression = regression[regression.RollingMean > 0]\n",
    "regression[\"Treatment\"] = regression.Region == 'Midland'\n",
    "regression[\"Treatment\"] = regression[\"Treatment\"].astype(int)\n",
    "regression[\"Post\"] = regression.Date > \"2014\" \n",
    "regression[\"Post\"] = regression[\"Post\"].astype(int)\n",
    "regression[\"PostTreatment\"] = regression[\"Treatment\"] * regression[\"Post\"]\n",
    "regression[\"Constant\"] = 1"
   ]
  },
  {
   "cell_type": "code",
   "execution_count": 234,
   "metadata": {},
   "outputs": [
    {
     "data": {
      "text/html": [
       "<div>\n",
       "<style scoped>\n",
       "    .dataframe tbody tr th:only-of-type {\n",
       "        vertical-align: middle;\n",
       "    }\n",
       "\n",
       "    .dataframe tbody tr th {\n",
       "        vertical-align: top;\n",
       "    }\n",
       "\n",
       "    .dataframe thead th {\n",
       "        text-align: right;\n",
       "    }\n",
       "</style>\n",
       "<table border=\"1\" class=\"dataframe\">\n",
       "  <thead>\n",
       "    <tr style=\"text-align: right;\">\n",
       "      <th></th>\n",
       "      <th>Date</th>\n",
       "      <th>Rate</th>\n",
       "      <th>Region</th>\n",
       "      <th>RollingMean</th>\n",
       "      <th>Treatment</th>\n",
       "      <th>Post</th>\n",
       "      <th>PostTreatment</th>\n",
       "      <th>Constant</th>\n",
       "    </tr>\n",
       "  </thead>\n",
       "  <tbody>\n",
       "    <tr>\n",
       "      <th>0</th>\n",
       "      <td>2010-06-01</td>\n",
       "      <td>0.062</td>\n",
       "      <td>Midland</td>\n",
       "      <td>76.8473</td>\n",
       "      <td>1</td>\n",
       "      <td>0</td>\n",
       "      <td>0</td>\n",
       "      <td>1</td>\n",
       "    </tr>\n",
       "    <tr>\n",
       "      <th>1</th>\n",
       "      <td>2010-07-01</td>\n",
       "      <td>0.060</td>\n",
       "      <td>Midland</td>\n",
       "      <td>78.6886</td>\n",
       "      <td>1</td>\n",
       "      <td>0</td>\n",
       "      <td>0</td>\n",
       "      <td>1</td>\n",
       "    </tr>\n",
       "    <tr>\n",
       "      <th>2</th>\n",
       "      <td>2010-07-01</td>\n",
       "      <td>0.094</td>\n",
       "      <td>National</td>\n",
       "      <td>78.6886</td>\n",
       "      <td>0</td>\n",
       "      <td>0</td>\n",
       "      <td>0</td>\n",
       "      <td>1</td>\n",
       "    </tr>\n",
       "    <tr>\n",
       "      <th>3</th>\n",
       "      <td>2010-09-01</td>\n",
       "      <td>0.055</td>\n",
       "      <td>Midland</td>\n",
       "      <td>83.9261</td>\n",
       "      <td>1</td>\n",
       "      <td>0</td>\n",
       "      <td>0</td>\n",
       "      <td>1</td>\n",
       "    </tr>\n",
       "    <tr>\n",
       "      <th>4</th>\n",
       "      <td>2010-09-01</td>\n",
       "      <td>0.095</td>\n",
       "      <td>National</td>\n",
       "      <td>83.9261</td>\n",
       "      <td>0</td>\n",
       "      <td>0</td>\n",
       "      <td>0</td>\n",
       "      <td>1</td>\n",
       "    </tr>\n",
       "    <tr>\n",
       "      <th>...</th>\n",
       "      <td>...</td>\n",
       "      <td>...</td>\n",
       "      <td>...</td>\n",
       "      <td>...</td>\n",
       "      <td>...</td>\n",
       "      <td>...</td>\n",
       "      <td>...</td>\n",
       "      <td>...</td>\n",
       "    </tr>\n",
       "    <tr>\n",
       "      <th>136</th>\n",
       "      <td>2018-08-01</td>\n",
       "      <td>0.038</td>\n",
       "      <td>National</td>\n",
       "      <td>64.7475</td>\n",
       "      <td>0</td>\n",
       "      <td>1</td>\n",
       "      <td>0</td>\n",
       "      <td>1</td>\n",
       "    </tr>\n",
       "    <tr>\n",
       "      <th>137</th>\n",
       "      <td>2018-10-01</td>\n",
       "      <td>0.020</td>\n",
       "      <td>Midland</td>\n",
       "      <td>56.6784</td>\n",
       "      <td>1</td>\n",
       "      <td>1</td>\n",
       "      <td>1</td>\n",
       "      <td>1</td>\n",
       "    </tr>\n",
       "    <tr>\n",
       "      <th>138</th>\n",
       "      <td>2018-10-01</td>\n",
       "      <td>0.038</td>\n",
       "      <td>National</td>\n",
       "      <td>56.6784</td>\n",
       "      <td>0</td>\n",
       "      <td>1</td>\n",
       "      <td>0</td>\n",
       "      <td>1</td>\n",
       "    </tr>\n",
       "    <tr>\n",
       "      <th>139</th>\n",
       "      <td>2018-11-01</td>\n",
       "      <td>0.019</td>\n",
       "      <td>Midland</td>\n",
       "      <td>53.4701</td>\n",
       "      <td>1</td>\n",
       "      <td>1</td>\n",
       "      <td>1</td>\n",
       "      <td>1</td>\n",
       "    </tr>\n",
       "    <tr>\n",
       "      <th>140</th>\n",
       "      <td>2018-11-01</td>\n",
       "      <td>0.037</td>\n",
       "      <td>National</td>\n",
       "      <td>53.4701</td>\n",
       "      <td>0</td>\n",
       "      <td>1</td>\n",
       "      <td>0</td>\n",
       "      <td>1</td>\n",
       "    </tr>\n",
       "  </tbody>\n",
       "</table>\n",
       "<p>141 rows × 8 columns</p>\n",
       "</div>"
      ],
      "text/plain": [
       "          Date   Rate    Region  RollingMean  Treatment  Post  PostTreatment  \\\n",
       "0   2010-06-01  0.062   Midland      76.8473          1     0              0   \n",
       "1   2010-07-01  0.060   Midland      78.6886          1     0              0   \n",
       "2   2010-07-01  0.094  National      78.6886          0     0              0   \n",
       "3   2010-09-01  0.055   Midland      83.9261          1     0              0   \n",
       "4   2010-09-01  0.095  National      83.9261          0     0              0   \n",
       "..         ...    ...       ...          ...        ...   ...            ...   \n",
       "136 2018-08-01  0.038  National      64.7475          0     1              0   \n",
       "137 2018-10-01  0.020   Midland      56.6784          1     1              1   \n",
       "138 2018-10-01  0.038  National      56.6784          0     1              0   \n",
       "139 2018-11-01  0.019   Midland      53.4701          1     1              1   \n",
       "140 2018-11-01  0.037  National      53.4701          0     1              0   \n",
       "\n",
       "     Constant  \n",
       "0           1  \n",
       "1           1  \n",
       "2           1  \n",
       "3           1  \n",
       "4           1  \n",
       "..        ...  \n",
       "136         1  \n",
       "137         1  \n",
       "138         1  \n",
       "139         1  \n",
       "140         1  \n",
       "\n",
       "[141 rows x 8 columns]"
      ]
     },
     "execution_count": 234,
     "metadata": {},
     "output_type": "execute_result"
    }
   ],
   "source": [
    "regression"
   ]
  },
  {
   "cell_type": "code",
   "execution_count": 235,
   "metadata": {},
   "outputs": [
    {
     "name": "stdout",
     "output_type": "stream",
     "text": [
      "                            OLS Regression Results                            \n",
      "==============================================================================\n",
      "Dep. Variable:                   Rate   R-squared:                       0.833\n",
      "Model:                            OLS   Adj. R-squared:                  0.829\n",
      "Method:                 Least Squares   F-statistic:                     227.1\n",
      "Date:                Fri, 08 May 2020   Prob (F-statistic):           5.76e-53\n",
      "Time:                        20:19:44   Log-Likelihood:                 477.23\n",
      "No. Observations:                 141   AIC:                            -946.5\n",
      "Df Residuals:                     137   BIC:                            -934.7\n",
      "Df Model:                           3                                         \n",
      "Covariance Type:            nonrobust                                         \n",
      "=================================================================================\n",
      "                    coef    std err          t      P>|t|      [0.025      0.975]\n",
      "---------------------------------------------------------------------------------\n",
      "Treatment        -0.0394      0.002    -18.473      0.000      -0.044      -0.035\n",
      "Post             -0.0347      0.002    -17.286      0.000      -0.039      -0.031\n",
      "PostTreatment     0.0230      0.003      8.126      0.000       0.017       0.029\n",
      "Constant          0.0832      0.002     54.799      0.000       0.080       0.086\n",
      "==============================================================================\n",
      "Omnibus:                       16.880   Durbin-Watson:                   0.844\n",
      "Prob(Omnibus):                  0.000   Jarque-Bera (JB):                6.487\n",
      "Skew:                           0.256   Prob(JB):                       0.0390\n",
      "Kurtosis:                       2.082   Cond. No.                         7.38\n",
      "==============================================================================\n",
      "\n",
      "Warnings:\n",
      "[1] Standard Errors assume that the covariance matrix of the errors is correctly specified.\n"
     ]
    }
   ],
   "source": [
    "import statsmodels.api as sm\n",
    "X = regression[[\"Treatment\", \"Post\", \"PostTreatment\", \"Constant\"]]\n",
    "model = sm.OLS(regression.Rate, X)\n",
    "results = model.fit()\n",
    "print(results.summary())"
   ]
  },
  {
   "cell_type": "code",
   "execution_count": 242,
   "metadata": {},
   "outputs": [
    {
     "data": {
      "text/plain": [
       "'<table style=\"text-align:center\"><tr><td colspan=\"2\" style=\"border-bottom: 1px solid black\"></td></tr><tr><td style=\"text-align:left\"></td><td colspan=\"1\"><em>Dependent variable:</em></td></tr><tr><td style=\"text-align:left\"></td><tr><td style=\"text-align:left\"></td><td>(1)</td></tr><tr><td colspan=\"2\" style=\"border-bottom: 1px solid black\"></td></tr><tr><td style=\"text-align:left\">Constant</td><td>0.083<sup>***</sup></td></tr><tr><td style=\"text-align:left\"></td><td>(0.002)</td></tr><tr><td style=\"text-align:left\">Post</td><td>-0.035<sup>***</sup></td></tr><tr><td style=\"text-align:left\"></td><td>(0.002)</td></tr><tr><td style=\"text-align:left\">PostTreatment</td><td>0.023<sup>***</sup></td></tr><tr><td style=\"text-align:left\"></td><td>(0.003)</td></tr><tr><td style=\"text-align:left\">Treatment</td><td>-0.039<sup>***</sup></td></tr><tr><td style=\"text-align:left\"></td><td>(0.002)</td></tr><td colspan=\"2\" style=\"border-bottom: 1px solid black\"></td></tr><tr><td style=\"text-align: left\">Observations</td><td>141.0</td></tr><tr><td style=\"text-align: left\">R<sup>2</sup></td><td>0.833</td></tr><tr><td style=\"text-align: left\">Adjusted R<sup>2</sup></td><td>0.829</td></tr><tr><td style=\"text-align: left\">Residual Std. Error</td><td>0.008(df = 137.0)</td></tr><tr><td style=\"text-align: left\">F Statistic</td><td>227.134<sup>***</sup>(df = 3.0; 137.0)</td></tr><tr><td colspan=\"2\" style=\"border-bottom: 1px solid black\"></td></tr><tr><td style=\"text-align: left\">Note:</td>\\n <td colspan=\"1\" style=\"text-align: right\">\\n  <sup>*</sup>p&lt;0.1;\\n  <sup>**</sup>p&lt;0.05;\\n  <sup>***</sup>p&lt;0.01\\n </td></tr></table>'"
      ]
     },
     "execution_count": 242,
     "metadata": {},
     "output_type": "execute_result"
    }
   ],
   "source": [
    "from stargazer.stargazer import Stargazer\n",
    "from IPython.core.display import HTML\n",
    "\n",
    "stargazer = Stargazer([results])\n",
    "stargazer.render_html()"
   ]
  },
  {
   "cell_type": "markdown",
   "metadata": {},
   "source": [
    "\\begin{table} \\centering\\n  \\\\label{}\\n\\\\begin{tabular}{@{\\\\extracolsep{5pt}}lcc}\\n\\\\\\\\[-1.8ex]\\\\hline\\n\\\\hline \\\\\\\\[-1.8ex]\\n& \\\\multicolumn{1}{c}{\\\\textit{Dependent variable:}} \\\\\\n\\\\cr \\\\cline{1-2}\\n\\\\\\\\[-1.8ex] & (1) \\\\\\\\\\n\\\\hline \\\\\\\\[-1.8ex]\\n Constant & 0.083$^{***}$ \\\\\\\\\\n  & (0.002) \\\\\\\\\\n  & \\\\\\\\\\n Post & -0.035$^{***}$ \\\\\\\\\\n  & (0.002) \\n  & \\\\\\\\\\n PostTreatment & 0.023$^{***}$ \\\\\\\\\\n  & (0.003) \\\\\\\\\\n  & \\\\\\\\\\n Treatment & -0.039$^{***}$ \\\\\\\\\\n  & (0.002) \\\\\\\\\\n  & \\\\\\\\\\n\\\\hline \\\\\\\\[-1.8ex]\\n Observations & 141.0 \\\\\\\\\\n R${2}$ & 0.833 \\\\\\\\\\n Adjusted R${2}$ & 0.829 \\\\\\\\\\n Residual Std. Error & 0.008(df = 137.0)  \\\\\\\\\\n F Statistic & 227.134$^{***}$ (df = 3.0; 137.0) \\\\\\\\\\n\\\\hline\\n\\\\hline \\\\\\\\[-1.8ex]\\n\\\\textit{Note:} & \\\\multicolumn{1}{r}{$^{*}$p$<$0.1; $^{**}$p$<$0.05; $^{***}$p$<$0.01} \\\\\\\\\\n\\\\end{tabular}\\n\\\\end{table}"
   ]
  },
  {
   "cell_type": "code",
   "execution_count": null,
   "metadata": {},
   "outputs": [],
   "source": []
  }
 ],
 "metadata": {
  "kernelspec": {
   "display_name": "Python 3",
   "language": "python",
   "name": "python3"
  },
  "language_info": {
   "codemirror_mode": {
    "name": "ipython",
    "version": 3
   },
   "file_extension": ".py",
   "mimetype": "text/x-python",
   "name": "python",
   "nbconvert_exporter": "python",
   "pygments_lexer": "ipython3",
   "version": "3.7.6"
  }
 },
 "nbformat": 4,
 "nbformat_minor": 4
}
