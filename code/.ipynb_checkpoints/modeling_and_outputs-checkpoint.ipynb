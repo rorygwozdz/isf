{
 "cells": [
  {
   "cell_type": "code",
   "execution_count": 2,
   "metadata": {},
   "outputs": [],
   "source": [
    "# packages\n",
    "import numpy as np\n",
    "import pandas as pd\n",
    "import scipy.stats as sc\n",
    "import matplotlib.pyplot as plt"
   ]
  },
  {
   "cell_type": "code",
   "execution_count": 89,
   "metadata": {},
   "outputs": [],
   "source": [
    "# data loading\n",
    "d_loc = 'csv_data/'\n",
    "ytw = pd.read_csv(d_loc + 'ytw.csv')\n",
    "ytw['ytw'] = ytw['ytw'].str.rstrip('%').astype('float') / 100.0\n",
    "ytw['date'] = pd.to_datetime(ytw['date'])\n",
    "ytm = pd.read_csv(d_loc + 'ytm.csv')\n",
    "ytm['ytm'] = ytm['ytm'].str.rstrip('%').astype('float') / 100.0;\n",
    "ytm['date'] = pd.to_datetime(ytm['date'])\n",
    "expos = pd.read_csv(d_loc + \"expos.csv\")\n",
    "expos['date'] = pd.to_datetime(expos['date'])\n",
    "uso = pd.read_csv(d_loc + 'uso.csv')\n",
    "uso['trade_date'] = pd.to_datetime(uso['trade_date'])\n",
    "uso['expirDate'] = pd.to_datetime(uso['expirDate'])\n",
    "monthly_expos = expos[expos.expo_type == 'Monthly']\n",
    "max_date_back = max([\n",
    "    min(uso_stock.index), \n",
    "    min(monthly_expos['date']), \n",
    "    min(ytm['date']), \n",
    "    min(ytw['date'])])\n",
    "\n",
    "uso = uso[uso[\"trade_date\"] >  max_date_back]"
   ]
  },
  {
   "cell_type": "code",
   "execution_count": 108,
   "metadata": {},
   "outputs": [
    {
     "data": {
      "text/plain": [
       "(        stkPx trade_date  expirDate  strike  cOi    pOi  cValue  pValue  \\\n",
       " 210315  42.07 2010-04-05 2010-04-16    18.0   50   1043   24.07     0.0   \n",
       " 210316  42.07 2010-04-05 2010-04-16    19.0   50   2407   23.07     0.0   \n",
       " 210317  42.07 2010-04-05 2010-04-16    20.0   10   2292   22.07     0.0   \n",
       " 210318  42.07 2010-04-05 2010-04-16    21.0    0  25400   21.07     0.0   \n",
       " 210319  42.07 2010-04-05 2010-04-16    22.0    0  21096   20.07     0.0   \n",
       " \n",
       "         delta  gamma  \n",
       " 210315    1.0    0.0  \n",
       " 210316    1.0    0.0  \n",
       " 210317    1.0    0.0  \n",
       " 210318    1.0    0.0  \n",
       " 210319    1.0    0.0  , Timestamp('2010-04-01 00:00:00'))"
      ]
     },
     "execution_count": 108,
     "metadata": {},
     "output_type": "execute_result"
    }
   ],
   "source": [
    "uso.head(), max_date_back"
   ]
  },
  {
   "cell_type": "code",
   "execution_count": 106,
   "metadata": {},
   "outputs": [],
   "source": [
    "#### USO Sorting\n",
    "# putting into one frame\n",
    "# pd.merge\n",
    "# pd.shift (for advancing)\n",
    "uso_stock = uso[['trade_date', 'stkPx']].groupby('trade_date').agg(np.mean)\n",
    "uso_expos = monthly_expos.merge(uso, left_on='date', right_on='expirDate')\n",
    "uso_expos = uso_expos.drop(columns=['date', 'expo_type'])\n",
    "uso_trading = monthly_expos.merge(uso_expos, left_on='date', right_on='trade_date')\n",
    "uso_trading = uso_trading.sort_values(['trade_date', 'expirDate', 'strike'])"
   ]
  },
  {
   "cell_type": "code",
   "execution_count": 115,
   "metadata": {},
   "outputs": [
    {
     "data": {
      "text/plain": [
       "(numpy.datetime64('2010-12-17T00:00:00.000000000'),\n",
       " numpy.datetime64('2010-04-05T00:00:00.000000000'),\n",
       " numpy.datetime64('2007-01-20T00:00:00.000000000'))"
      ]
     },
     "execution_count": 115,
     "metadata": {},
     "output_type": "execute_result"
    }
   ],
   "source": [
    "min(np.unique(uso_trading.trade_date)), min(np.unique(uso.trade_date)), min(np.unique(monthly_expos.date))"
   ]
  },
  {
   "cell_type": "code",
   "execution_count": 116,
   "metadata": {},
   "outputs": [],
   "source": [
    "# building a model on linear regression time series \n",
    "# https://towardsdatascience.com/prediction-task-with-multivariate-timeseries-and-var-model-47003f629f9"
   ]
  },
  {
   "cell_type": "markdown",
   "metadata": {},
   "source": [
    "### Plotting YTM & YTW\n",
    "This is to visualize the estimated cost of a goverment paying the TEY of the S&P IG Energy Sector YTM & YTW and buying the 20 delta USO put for two months out."
   ]
  },
  {
   "cell_type": "code",
   "execution_count": 117,
   "metadata": {},
   "outputs": [
    {
     "data": {
      "text/plain": [
       "Timestamp('2010-04-01 00:00:00')"
      ]
     },
     "execution_count": 117,
     "metadata": {},
     "output_type": "execute_result"
    }
   ],
   "source": [
    "max_date_back"
   ]
  },
  {
   "cell_type": "code",
   "execution_count": 122,
   "metadata": {},
   "outputs": [
    {
     "name": "stdout",
     "output_type": "stream",
     "text": [
      " gguugugu\n",
      " gguugugu\n",
      " gguugugu\n",
      " gguugugu\n",
      " gguugugu\n",
      " gguugugu\n",
      " gguugugu\n",
      " gguugugu\n",
      " gguugugu\n",
      " gguugugu\n",
      " gguugugu\n",
      " gguugugu\n",
      " gguugugu\n",
      " gguugugu\n",
      " gguugugu\n",
      " gguugugu\n",
      " gguugugu\n",
      " gguugugu\n",
      " gguugugu\n",
      " gguugugu\n",
      " gguugugu\n",
      " gguugugu\n",
      " gguugugu\n",
      " gguugugu\n",
      " gguugugu\n",
      " gguugugu\n",
      " gguugugu\n",
      " gguugugu\n",
      " gguugugu\n",
      " gguugugu\n",
      " gguugugu\n",
      " gguugugu\n",
      " gguugugu\n",
      " gguugugu\n",
      " gguugugu\n",
      " gguugugu\n",
      " gguugugu\n",
      " gguugugu\n",
      " gguugugu\n",
      " gguugugu\n",
      " gguugugu\n",
      " gguugugu\n",
      " gguugugu\n",
      " gguugugu\n",
      " gguugugu\n",
      " gguugugu\n",
      " gguugugu\n",
      " gguugugu\n",
      " gguugugu\n",
      " gguugugu\n",
      " gguugugu\n",
      " gguugugu\n",
      " gguugugu\n",
      " gguugugu\n",
      " gguugugu\n",
      " gguugugu\n",
      " gguugugu\n",
      " gguugugu\n",
      " gguugugu\n",
      " gguugugu\n",
      " gguugugu\n",
      " gguugugu\n",
      " gguugugu\n",
      " gguugugu\n",
      " gguugugu\n",
      " gguugugu\n",
      " gguugugu\n",
      " gguugugu\n",
      " gguugugu\n",
      " gguugugu\n",
      " gguugugu\n",
      " gguugugu\n",
      " gguugugu\n",
      " gguugugu\n",
      " gguugugu\n",
      " gguugugu\n",
      " gguugugu\n",
      " gguugugu\n",
      " gguugugu\n",
      " gguugugu\n",
      " gguugugu\n",
      " gguugugu\n",
      " gguugugu\n",
      " gguugugu\n",
      " gguugugu\n",
      " gguugugu\n",
      " gguugugu\n",
      " gguugugu\n",
      " gguugugu\n",
      " gguugugu\n",
      " gguugugu\n",
      " gguugugu\n",
      " gguugugu\n",
      " gguugugu\n",
      " gguugugu\n",
      " gguugugu\n",
      " gguugugu\n",
      " gguugugu\n",
      " gguugugu\n",
      " gguugugu\n",
      " gguugugu\n",
      " gguugugu\n",
      " gguugugu\n",
      " gguugugu\n",
      " gguugugu\n",
      " gguugugu\n",
      " gguugugu\n",
      " gguugugu\n",
      " gguugugu\n",
      " gguugugu\n",
      " gguugugu\n"
     ]
    }
   ],
   "source": [
    "delta = .2\n",
    "put_delta = 1 - delta\n",
    "first_trade, trade_pass = True, True\n",
    "for trade_date, chain in uso_trading.groupby('trade_date'):\n",
    "    for expirDate, expo_chain in chain.groupby('expirDate'):\n",
    "        if trade_first: \n",
    "            print(' gguugugu')\n",
    "            trade_first = False\n",
    "            trade_pass = False\n",
    "            continue\n",
    "        elif trade_pass:\n",
    "            break\n",
    "        else:\n",
    "            print('yep')\n",
    "            right_delta = expo_chain.iloc[(expo_chain['delta'] - put_delta).abs().argsort()[:1]]\n",
    "            right_cols = right_delta[['trade_date', 'expirDate', 'pValue', 'strike', 'delta']]\n",
    "            print(right_cols)\n",
    "            trade_pass = True"
   ]
  },
  {
   "cell_type": "code",
   "execution_count": null,
   "metadata": {},
   "outputs": [],
   "source": []
  }
 ],
 "metadata": {
  "kernelspec": {
   "display_name": "Python 3",
   "language": "python",
   "name": "python3"
  },
  "language_info": {
   "codemirror_mode": {
    "name": "ipython",
    "version": 3
   },
   "file_extension": ".py",
   "mimetype": "text/x-python",
   "name": "python",
   "nbconvert_exporter": "python",
   "pygments_lexer": "ipython3",
   "version": "3.6.5"
  }
 },
 "nbformat": 4,
 "nbformat_minor": 4
}
