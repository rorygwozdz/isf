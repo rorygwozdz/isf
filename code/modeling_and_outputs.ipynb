{
 "cells": [
  {
   "cell_type": "code",
   "execution_count": 2,
   "metadata": {},
   "outputs": [],
   "source": [
    "# packages\n",
    "import numpy as np\n",
    "import pandas as pd\n",
    "import scipy.stats as sc\n",
    "import matplotlib.pyplot as plt"
   ]
  },
  {
   "cell_type": "code",
   "execution_count": 89,
   "metadata": {},
   "outputs": [],
   "source": [
    "# data loading\n",
    "d_loc = 'csv_data/'\n",
    "ytw = pd.read_csv(d_loc + 'ytw.csv')\n",
    "ytw['ytw'] = ytw['ytw'].str.rstrip('%').astype('float') / 100.0\n",
    "ytw['date'] = pd.to_datetime(ytw['date'])\n",
    "ytm = pd.read_csv(d_loc + 'ytm.csv')\n",
    "ytm['ytm'] = ytm['ytm'].str.rstrip('%').astype('float') / 100.0;\n",
    "ytm['date'] = pd.to_datetime(ytm['date'])\n",
    "expos = pd.read_csv(d_loc + \"expos.csv\")\n",
    "expos['date'] = pd.to_datetime(expos['date'])\n",
    "uso = pd.read_csv(d_loc + 'uso.csv')\n",
    "uso['trade_date'] = pd.to_datetime(uso['trade_date'])\n",
    "uso['expirDate'] = pd.to_datetime(uso['expirDate'])\n",
    "monthly_expos = expos[expos.expo_type == 'Monthly']\n",
    "max_date_back = max([\n",
    "    min(uso_stock.index), \n",
    "    min(monthly_expos['date']), \n",
    "    min(ytm['date']), \n",
    "    min(ytw['date'])])\n",
    "\n",
    "uso = uso[uso[\"trade_date\"] >  max_date_back]"
   ]
  },
  {
   "cell_type": "code",
   "execution_count": 108,
   "metadata": {},
   "outputs": [
    {
     "data": {
      "text/plain": [
       "(        stkPx trade_date  expirDate  strike  cOi    pOi  cValue  pValue  \\\n",
       " 210315  42.07 2010-04-05 2010-04-16    18.0   50   1043   24.07     0.0   \n",
       " 210316  42.07 2010-04-05 2010-04-16    19.0   50   2407   23.07     0.0   \n",
       " 210317  42.07 2010-04-05 2010-04-16    20.0   10   2292   22.07     0.0   \n",
       " 210318  42.07 2010-04-05 2010-04-16    21.0    0  25400   21.07     0.0   \n",
       " 210319  42.07 2010-04-05 2010-04-16    22.0    0  21096   20.07     0.0   \n",
       " \n",
       "         delta  gamma  \n",
       " 210315    1.0    0.0  \n",
       " 210316    1.0    0.0  \n",
       " 210317    1.0    0.0  \n",
       " 210318    1.0    0.0  \n",
       " 210319    1.0    0.0  , Timestamp('2010-04-01 00:00:00'))"
      ]
     },
     "execution_count": 108,
     "metadata": {},
     "output_type": "execute_result"
    }
   ],
   "source": [
    "uso.head(), max_date_back"
   ]
  },
  {
   "cell_type": "code",
   "execution_count": 106,
   "metadata": {},
   "outputs": [],
   "source": [
    "#### USO Sorting\n",
    "# putting into one frame\n",
    "# pd.merge\n",
    "# pd.shift (for advancing)\n",
    "uso_stock = uso[['trade_date', 'stkPx']].groupby('trade_date').agg(np.mean)\n",
    "uso_expos = monthly_expos.merge(uso, left_on='date', right_on='expirDate')\n",
    "uso_expos = uso_expos.drop(columns=['date', 'expo_type'])\n",
    "uso_trading = monthly_expos.merge(uso_expos, left_on='date', right_on='trade_date')\n",
    "uso_trading = uso_trading.sort_values(['trade_date', 'expirDate', 'strike'])"
   ]
  },
  {
   "cell_type": "code",
   "execution_count": 115,
   "metadata": {},
   "outputs": [
    {
     "data": {
      "text/plain": [
       "(numpy.datetime64('2010-12-17T00:00:00.000000000'),\n",
       " numpy.datetime64('2010-04-05T00:00:00.000000000'),\n",
       " numpy.datetime64('2007-01-20T00:00:00.000000000'))"
      ]
     },
     "execution_count": 115,
     "metadata": {},
     "output_type": "execute_result"
    }
   ],
   "source": [
    "min(np.unique(uso_trading.trade_date)), min(np.unique(uso.trade_date)), min(np.unique(monthly_expos.date))"
   ]
  },
  {
   "cell_type": "code",
   "execution_count": 116,
   "metadata": {},
   "outputs": [],
   "source": [
    "# building a model on linear regression time series \n",
    "# https://towardsdatascience.com/prediction-task-with-multivariate-timeseries-and-var-model-47003f629f9"
   ]
  },
  {
   "cell_type": "markdown",
   "metadata": {},
   "source": [
    "### Plotting YTM & YTW\n",
    "This is to visualize the estimated cost of a goverment paying the TEY of the S&P IG Energy Sector YTM & YTW and buying the 20 delta USO put for two months out."
   ]
  },
  {
   "cell_type": "code",
   "execution_count": 117,
   "metadata": {},
   "outputs": [
    {
     "data": {
      "text/plain": [
       "Timestamp('2010-04-01 00:00:00')"
      ]
     },
     "execution_count": 117,
     "metadata": {},
     "output_type": "execute_result"
    }
   ],
   "source": [
    "max_date_back"
   ]
  },
  {
   "cell_type": "code",
   "execution_count": 131,
   "metadata": {},
   "outputs": [
    {
     "name": "stdout",
     "output_type": "stream",
     "text": [
      "   trade_date  expirDate  pValue  strike   delta\n",
      "47 2010-12-17 2011-01-21    0.38    35.0  0.8112\n",
      "    trade_date  expirDate  pValue  strike   delta\n",
      "283 2011-01-21 2011-02-18     0.3    35.0  0.8204\n",
      "    trade_date  expirDate  pValue  strike   delta\n",
      "468 2011-02-18 2011-03-18    0.27    34.0  0.8241\n",
      "    trade_date  expirDate  pValue  strike   delta\n",
      "675 2011-03-18 2011-04-15     0.6    38.0  0.7754\n",
      "     trade_date  expirDate  pValue  strike  delta\n",
      "1002 2011-04-15 2011-05-20    0.53    41.0  0.777\n",
      "     trade_date  expirDate  pValue  strike   delta\n",
      "1282 2011-05-20 2011-06-17    0.44    36.0  0.8193\n",
      "     trade_date  expirDate  pValue  strike   delta\n",
      "1567 2011-06-17 2011-07-15    0.49    34.0  0.7822\n",
      "     trade_date  expirDate  pValue  strike   delta\n",
      "1857 2011-07-15 2011-08-19    0.41    35.0  0.8153\n",
      "     trade_date  expirDate  pValue  strike   delta\n",
      "2121 2011-08-19 2011-09-16    0.59    28.0  0.8164\n",
      "     trade_date  expirDate  pValue  strike   delta\n",
      "2410 2011-09-16 2011-10-21    0.54    30.0  0.8221\n",
      "     trade_date  expirDate  pValue  strike   delta\n",
      "2759 2011-10-21 2011-11-18    0.56    30.0  0.8127\n",
      "     trade_date  expirDate  pValue  strike   delta\n",
      "3111 2011-11-18 2011-12-16    0.47    34.0  0.8243\n",
      "     trade_date  expirDate  pValue  strike   delta\n",
      "3426 2011-12-16 2012-01-20    0.61    33.0  0.7858\n",
      "     trade_date  expirDate  pValue  strike   delta\n",
      "3692 2012-01-20 2012-02-17    0.37    35.0  0.8122\n",
      "     trade_date  expirDate  pValue  strike  delta\n",
      "4001 2012-02-17 2012-03-16    0.34    37.0   0.82\n",
      "     trade_date  expirDate  pValue  strike   delta\n",
      "4313 2012-03-16 2012-04-20    0.35    38.0  0.8249\n",
      "     trade_date  expirDate  pValue  strike  delta\n",
      "4600 2012-04-20 2012-05-18    0.33    37.0  0.808\n",
      "     trade_date  expirDate  pValue  strike   delta\n",
      "4842 2012-05-18 2012-06-15    0.39    32.0  0.7966\n",
      "     trade_date  expirDate  pValue  strike   delta\n",
      "5105 2012-06-15 2012-07-20     0.5    29.0  0.7836\n",
      "     trade_date  expirDate  pValue  strike   delta\n",
      "5404 2012-07-20 2012-08-17    0.43    32.0  0.7761\n",
      "     trade_date  expirDate  pValue  strike   delta\n",
      "5754 2012-08-17 2012-09-21    0.44    33.5  0.7843\n",
      "     trade_date  expirDate  pValue  strike   delta\n",
      "6114 2012-09-21 2012-10-19    0.35    32.0  0.8064\n",
      "     trade_date  expirDate  pValue  strike   delta\n",
      "6505 2012-10-19 2012-11-16    0.41    31.0  0.7882\n",
      "     trade_date  expirDate  pValue  strike   delta\n",
      "6903 2012-11-16 2012-12-21    0.35    29.5  0.8066\n",
      "     trade_date  expirDate  pValue  strike   delta\n",
      "7299 2012-12-21 2013-01-18    0.23    30.0  0.8373\n",
      "     trade_date  expirDate  pValue  strike   delta\n",
      "7690 2013-01-18 2013-02-15    0.24    33.0  0.8074\n",
      "     trade_date  expirDate  pValue  strike  delta\n",
      "8110 2013-02-15 2013-03-15    0.26    33.0  0.796\n",
      "     trade_date  expirDate  pValue  strike  delta\n",
      "8543 2013-03-15 2013-04-19    0.27    32.0  0.788\n",
      "     trade_date  expirDate  pValue  strike  delta\n",
      "8976 2013-04-19 2013-05-17    0.33    29.5  0.788\n",
      "     trade_date  expirDate  pValue  strike  delta\n",
      "9347 2013-05-17 2013-06-21    0.28    32.0  0.814\n",
      "     trade_date  expirDate  pValue  strike   delta\n",
      "9717 2013-06-21 2013-07-19    0.31    31.5  0.7823\n",
      "      trade_date  expirDate  pValue  strike   delta\n",
      "10042 2013-07-19 2013-08-16    0.31    36.5  0.7939\n",
      "      trade_date  expirDate  pValue  strike   delta\n",
      "10287 2013-08-16 2013-09-20     0.3    36.0  0.8156\n",
      "      trade_date  expirDate  pValue  strike   delta\n",
      "10564 2013-09-20 2013-10-18    0.27    36.0  0.7951\n",
      "      trade_date  expirDate  pValue  strike   delta\n",
      "10874 2013-10-18 2013-11-15    0.21    34.5  0.8298\n",
      "      trade_date  expirDate  pValue  strike   delta\n",
      "11214 2013-11-15 2013-12-20    0.24    32.0  0.8115\n",
      "      trade_date  expirDate  pValue  strike   delta\n",
      "11561 2013-12-20 2014-01-17    0.19    34.0  0.8103\n",
      "      trade_date  expirDate  pValue  strike   delta\n",
      "11886 2014-01-17 2014-02-21    0.22    32.0  0.8151\n",
      "      trade_date  expirDate  pValue  strike   delta\n",
      "12199 2014-02-21 2014-03-21    0.18    35.0  0.8307\n",
      "      trade_date  expirDate  pValue  strike   delta\n",
      "12500 2014-03-21 2014-05-16     0.3    33.5  0.8155\n",
      "      trade_date  expirDate  pValue  strike   delta\n",
      "12801 2014-04-17 2014-06-20    0.39    35.5  0.7833\n",
      "      trade_date  expirDate  pValue  strike   delta\n",
      "13060 2014-05-16 2014-06-20    0.25    36.0  0.7682\n",
      "      trade_date  expirDate  pValue  strike   delta\n",
      "13377 2014-06-20 2014-07-18    0.21    38.0  0.7901\n",
      "      trade_date  expirDate  pValue  strike  delta\n",
      "13693 2014-07-18 2014-08-15     0.2    36.5  0.785\n",
      "      trade_date  expirDate  pValue  strike   delta\n",
      "13994 2014-09-19 2014-10-17    0.17    33.0  0.8246\n",
      "      trade_date  expirDate  pValue  strike   delta\n",
      "14322 2014-10-17 2014-11-21    0.43    29.0  0.7805\n",
      "      trade_date  expirDate  pValue  strike   delta\n",
      "14684 2014-11-21 2014-12-19    0.36    27.0  0.7898\n",
      "      trade_date  expirDate  pValue  strike   delta\n",
      "15044 2014-12-19 2015-01-16    0.35    19.0  0.8316\n",
      "      trade_date  expirDate  pValue  strike   delta\n",
      "15442 2015-01-16 2015-02-20    0.38    16.0  0.8045\n",
      "      trade_date  expirDate  pValue  strike   delta\n",
      "15885 2015-02-20 2015-03-20    0.35    16.5  0.8039\n",
      "      trade_date  expirDate  pValue  strike  delta\n",
      "16320 2015-03-20 2015-04-17    0.36    15.0  0.759\n",
      "      trade_date  expirDate  pValue  strike   delta\n",
      "16795 2015-04-17 2015-05-15    0.25    18.0  0.8157\n",
      "      trade_date  expirDate  pValue  strike   delta\n",
      "17178 2015-05-15 2015-06-19    0.25    19.0  0.7949\n",
      "      trade_date  expirDate  pValue  strike   delta\n",
      "17550 2015-06-19 2015-07-17    0.24    19.0  0.7578\n",
      "      trade_date  expirDate  pValue  strike   delta\n",
      "17917 2015-07-17 2015-08-21    0.23    15.5  0.8003\n",
      "      trade_date  expirDate  pValue  strike   delta\n",
      "18245 2015-08-21 2015-09-18     0.2    12.0  0.7971\n",
      "      trade_date  expirDate  pValue  strike   delta\n",
      "18587 2015-09-18 2015-10-16    0.18    13.0  0.8295\n",
      "      trade_date  expirDate  pValue  strike  delta\n",
      "18963 2015-10-16 2015-11-20    0.27    14.0  0.772\n",
      "      trade_date  expirDate  pValue  strike   delta\n",
      "19327 2015-11-20 2015-12-18    0.15    11.5  0.8397\n",
      "      trade_date  expirDate  pValue  strike   delta\n",
      "19672 2015-12-18 2016-01-15    0.16     9.5  0.8173\n",
      "      trade_date  expirDate  pValue  strike  delta\n",
      "20051 2016-01-15 2016-02-19    0.18     7.5  0.821\n",
      "      trade_date  expirDate  pValue  strike   delta\n",
      "20408 2016-02-19 2016-03-18    0.19     7.5  0.7979\n",
      "      trade_date  expirDate  pValue  strike   delta\n",
      "20747 2016-03-18 2016-04-15    0.15     9.5  0.8028\n",
      "      trade_date  expirDate  pValue  strike   delta\n",
      "21115 2016-04-15 2016-05-20    0.19     9.0  0.8114\n",
      "      trade_date  expirDate  pValue  strike   delta\n",
      "21412 2016-05-20 2016-06-17    0.13    10.5  0.8358\n",
      "      trade_date  expirDate  pValue  strike   delta\n",
      "21703 2016-06-17 2016-07-15    0.15    10.5  0.8174\n",
      "      trade_date  expirDate  pValue  strike   delta\n",
      "22017 2016-07-15 2016-08-19    0.16    10.0  0.7978\n",
      "      trade_date  expirDate  pValue  strike   delta\n",
      "22314 2016-08-19 2016-09-16    0.17    10.5  0.7756\n",
      "      trade_date  expirDate  pValue  strike   delta\n",
      "22596 2016-09-16 2016-10-21    0.16     9.0  0.8044\n",
      "      trade_date  expirDate  pValue  strike   delta\n",
      "22899 2016-10-21 2016-11-18    0.09    10.5  0.8467\n",
      "      trade_date  expirDate  pValue  strike   delta\n",
      "23191 2016-11-18 2016-12-16    0.12     9.0  0.8496\n",
      "      trade_date  expirDate  pValue  strike   delta\n",
      "23497 2016-12-16 2017-01-20     0.1    10.5  0.8438\n",
      "      trade_date  expirDate  pValue  strike   delta\n",
      "23820 2017-01-20 2017-02-17     0.1    10.5  0.8309\n",
      "      trade_date  expirDate  pValue  strike   delta\n",
      "24099 2017-02-17 2017-03-17    0.05    10.5  0.8791\n",
      "      trade_date  expirDate  pValue  strike   delta\n",
      "24394 2017-03-17 2017-04-21    0.08     9.5  0.8395\n",
      "      trade_date  expirDate  pValue  strike   delta\n",
      "24681 2017-04-21 2017-05-19    0.07     9.5  0.8468\n",
      "      trade_date  expirDate  pValue  strike   delta\n",
      "24932 2017-05-19 2017-06-16    0.16    10.0  0.7244\n",
      "      trade_date  expirDate  pValue  strike   delta\n",
      "25171 2017-06-16 2017-07-21    0.08     8.5  0.8283\n",
      "      trade_date  expirDate  pValue  strike   delta\n",
      "25414 2017-07-21 2017-08-18    0.05     8.5  0.8843\n",
      "      trade_date  expirDate  pValue  strike   delta\n",
      "25639 2017-08-18 2017-09-15    0.12     9.5  0.7407\n",
      "      trade_date  expirDate  pValue  strike   delta\n",
      "25856 2017-09-15 2017-10-20    0.09     9.5  0.8091\n",
      "      trade_date  expirDate  pValue  strike   delta\n",
      "26078 2017-10-20 2017-11-17    0.11    10.0  0.7525\n",
      "      trade_date  expirDate  pValue  strike  delta\n",
      "26284 2017-11-17 2017-12-15    0.13    11.0  0.707\n",
      "      trade_date  expirDate  pValue  strike   delta\n",
      "26520 2017-12-15 2018-01-19    0.11    11.0  0.7562\n",
      "      trade_date  expirDate  pValue  strike   delta\n",
      "26745 2018-01-19 2018-02-16    0.06    12.0  0.8443\n",
      "      trade_date  expirDate  pValue  strike   delta\n",
      "26939 2018-02-16 2018-03-16    0.07    11.5  0.8502\n",
      "      trade_date  expirDate  pValue  strike   delta\n",
      "27166 2018-03-16 2018-04-20    0.14    12.0  0.7512\n"
     ]
    },
    {
     "name": "stdout",
     "output_type": "stream",
     "text": [
      "      trade_date  expirDate  pValue  strike   delta\n",
      "27362 2018-04-20 2018-05-18    0.13    13.0  0.7877\n",
      "      trade_date  expirDate  pValue  strike   delta\n",
      "27560 2018-05-18 2018-06-15    0.07    13.5  0.8545\n",
      "      trade_date  expirDate  pValue  strike   delta\n",
      "27724 2018-06-15 2018-07-20     0.1    12.0  0.8416\n",
      "      trade_date  expirDate  pValue  strike   delta\n",
      "27882 2018-07-20 2018-08-17    0.14    13.5  0.7678\n",
      "      trade_date  expirDate  pValue  strike   delta\n",
      "28050 2018-08-17 2018-09-21    0.18    13.0  0.7507\n",
      "      trade_date  expirDate  pValue  strike   delta\n",
      "28196 2018-09-21 2018-10-19     0.1    14.0  0.8281\n",
      "      trade_date  expirDate  pValue  strike   delta\n",
      "28368 2018-10-19 2018-11-16    0.17    14.0  0.7571\n",
      "      trade_date  expirDate  pValue  strike   delta\n",
      "28566 2018-11-16 2018-12-21    0.22    11.0  0.7745\n",
      "      trade_date  expirDate  pValue  strike   delta\n",
      "28802 2018-12-21 2019-01-18    0.17     8.5  0.8059\n",
      "      trade_date  expirDate  pValue  strike   delta\n",
      "29062 2019-01-18 2019-02-15    0.14    10.5  0.7938\n",
      "      trade_date  expirDate  pValue  strike   delta\n",
      "29300 2019-02-15 2019-03-15    0.15    11.0  0.7697\n",
      "      trade_date  expirDate  pValue  strike   delta\n",
      "29511 2019-03-15 2019-04-18    0.17    11.5  0.7567\n",
      "      trade_date  expirDate  pValue  strike   delta\n",
      "29761 2019-04-18 2019-05-17    0.12    12.5  0.8043\n",
      "      trade_date  expirDate  pValue  strike    delta\n",
      "30011 2019-05-17 2019-06-21    0.07    12.0  0.86634\n",
      "      trade_date  expirDate  pValue  strike     delta\n",
      "30428 2019-06-21 2019-07-19    0.21    11.0  0.768557\n",
      "      trade_date  expirDate  pValue  strike     delta\n",
      "30798 2019-07-19 2019-08-16    0.18    11.0  0.748938\n",
      "      trade_date  expirDate  pValue  strike     delta\n",
      "31244 2019-08-16 2019-09-20    0.18    10.5  0.776089\n",
      "      trade_date  expirDate  pValue  strike  delta\n",
      "31584 2019-09-20 2019-10-18    0.09    11.0  0.861\n",
      "      trade_date  expirDate  pValue  strike     delta\n",
      "31789 2019-10-18 2019-11-15    0.17    10.5  0.762175\n",
      "      trade_date  expirDate  pValue  strike     delta\n",
      "31983 2019-11-15 2019-12-20    0.12    11.0  0.828127\n",
      "      trade_date  expirDate  pValue  strike     delta\n",
      "32155 2019-12-20 2020-01-17    0.14    12.0  0.764763\n",
      "      trade_date  expirDate  pValue  strike     delta\n",
      "32340 2020-01-17 2020-02-21    0.05    11.0  0.909777\n",
      "      trade_date  expirDate  pValue  strike   delta\n",
      "32517 2020-02-21 2020-03-20    0.11    10.0  0.8466\n",
      "      trade_date  expirDate  pValue  strike   delta\n",
      "32676 2020-03-20 2020-04-17    0.54     4.0  0.7436\n"
     ]
    }
   ],
   "source": [
    "delta = .2\n",
    "put_delta = 1 - delta\n",
    "first_trade, trade_pass = True, True\n",
    "for trade_date, chain in uso_trading.groupby('trade_date'):\n",
    "    first_trade = True\n",
    "    for expirDate, expo_chain in chain.groupby('expirDate'):\n",
    "        if first_trade: \n",
    "            first_trade = False\n",
    "            trade_pass = False\n",
    "            continue\n",
    "        elif trade_pass:\n",
    "            break\n",
    "        else:\n",
    "            right_delta = expo_chain.iloc[(expo_chain['delta'] - put_delta).abs().argsort()[:1]]\n",
    "            right_cols = right_delta[['trade_date', 'expirDate', 'pValue', 'strike', 'delta']]\n",
    "            print(right_cols)\n",
    "            trade_pass = True"
   ]
  },
  {
   "cell_type": "code",
   "execution_count": 132,
   "metadata": {},
   "outputs": [
    {
     "ename": "IndentationError",
     "evalue": "unexpected indent (<ipython-input-132-56e446ddd9c3>, line 5)",
     "output_type": "error",
     "traceback": [
      "\u001b[1;36m  File \u001b[1;32m\"<ipython-input-132-56e446ddd9c3>\"\u001b[1;36m, line \u001b[1;32m5\u001b[0m\n\u001b[1;33m    gOption(delta, months_out=None, weeks_out=None, trade_date=None)\u001b[0m\n\u001b[1;37m    ^\u001b[0m\n\u001b[1;31mIndentationError\u001b[0m\u001b[1;31m:\u001b[0m unexpected indent\n"
     ]
    }
   ],
   "source": [
    "wrangler = OptionsWrangler(data=options_data)\n",
    "## HAS A SUBCLASS: OPTION\n",
    "    ### it's essentially a row of a dataframe, except it grabs the daily data for itself \n",
    "    ### it's the string of the bucket, so to speak\n",
    "    Option((delta or strike) and trade_date and expo, months_out=None, weeks_out=None,)\n",
    "# returns the the expiration for an option\n",
    "wrangler.get_expo_chain(expo_chain, trade_date) # throws not valid expo, not in dataset (before, after)\n",
    "# returns the the expiration for an option\n",
    "wrangler.get_option_expo(option)\n",
    "wrangler.get_option_history(strike, expo, dtarting_trade_date) # throws no such option, not in dataset\n",
    "wrangler.get_days_historical_chain() # throws not in data set\n",
    "wrangler.get_imp_vol(expo, trade_date, strike)\n",
    "wrangler.get_call_value(expo, trade_date, strike) # throws not in dataset \n",
    "wrangler.get_put_value(expo, trade_date, strike) # throws not in dataset\n",
    "wrangler.get_market(expo, trade_date, strike) # throws not in dataset "
   ]
  },
  {
   "cell_type": "code",
   "execution_count": null,
   "metadata": {},
   "outputs": [],
   "source": []
  }
 ],
 "metadata": {
  "kernelspec": {
   "display_name": "Python 3",
   "language": "python",
   "name": "python3"
  },
  "language_info": {
   "codemirror_mode": {
    "name": "ipython",
    "version": 3
   },
   "file_extension": ".py",
   "mimetype": "text/x-python",
   "name": "python",
   "nbconvert_exporter": "python",
   "pygments_lexer": "ipython3",
   "version": "3.6.5"
  }
 },
 "nbformat": 4,
 "nbformat_minor": 4
}
